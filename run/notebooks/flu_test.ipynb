{
 "cells": [
  {
   "cell_type": "code",
   "execution_count": 1,
   "outputs": [],
   "source": [
    "import sys\n",
    "import numpy as np\n",
    "import pandas as pd\n",
    "\n",
    "sys.path.append('/home/charon/project')\n",
    "\n",
    "from shallowmind.api.infer import prepare_inference"
   ],
   "metadata": {
    "collapsed": false,
    "pycharm": {
     "name": "#%%\n"
    }
   }
  },
  {
   "cell_type": "code",
   "execution_count": 2,
   "outputs": [],
   "source": [
    "ckpt = '/data2/charon/LCI/ci_lingam-n_datasets=100-n_samples=500_10000-model=resnet50-embedding=128-lr=0.1-epoch=100/ckpts/exp_name=ci_lingam-n_datasets=100-n_samples=500_10000-model=resnet50-embedding=128-lr=0.1-epoch=100-cfg=ci_lingam-n_datasets=100-n_samples=500_10000-model=resnet50-embedding=128-bs=128-seed=42-val_mean_squared_error=0.0803.ckpt'\n",
    "cfg = '/data2/charon/LCI/ci_lingam-n_datasets=100-n_samples=500_10000-model=resnet50-embedding=128-lr=0.1-epoch=100/ci_lingam-n_datasets=100-n_samples=500_10000-model=resnet50-embedding=128.py'\n",
    "\n",
    "di, mi = prepare_inference(cfg, ckpt)\n",
    "mi = mi.cuda()"
   ],
   "metadata": {
    "collapsed": false,
    "pycharm": {
     "name": "#%%\n"
    }
   }
  },
  {
   "cell_type": "code",
   "execution_count": 3,
   "outputs": [],
   "source": [
    "# load flu dataset\n",
    "flu_df = pd.read_stata('/home/charon/project/learning-ivs/data/flu_clean.dta')"
   ],
   "metadata": {
    "collapsed": false,
    "pycharm": {
     "name": "#%%\n"
    }
   }
  },
  {
   "cell_type": "code",
   "execution_count": 26,
   "outputs": [
    {
     "name": "stderr",
     "output_type": "stream",
     "text": [
      "/tmp/ipykernel_284251/3598825097.py:5: SettingWithCopyWarning: \n",
      "A value is trying to be set on a copy of a slice from a DataFrame.\n",
      "Try using .loc[row_indexer,col_indexer] = value instead\n",
      "\n",
      "See the caveats in the documentation: https://pandas.pydata.org/pandas-docs/stable/user_guide/indexing.html#returning-a-view-versus-a-copy\n",
      "  inp['n_samples'] = len(inp)\n"
     ]
    }
   ],
   "source": [
    "import torch\n",
    "from copy import deepcopy\n",
    "inp = flu_df[['assign', 'receive', 'outcome']]\n",
    "# inp = flu_df[['assign', 'receive', 'outcome']]\n",
    "inp['n_samples'] = len(inp)\n",
    "inp = torch.from_numpy(inp.to_numpy()).to(torch.float32).cuda()\n"
   ],
   "metadata": {
    "collapsed": false,
    "pycharm": {
     "name": "#%%\n"
    }
   }
  },
  {
   "cell_type": "code",
   "execution_count": 27,
   "outputs": [
    {
     "data": {
      "text/plain": "torch.Size([2861, 4])"
     },
     "execution_count": 27,
     "metadata": {},
     "output_type": "execute_result"
    }
   ],
   "source": [
    "inp.shape"
   ],
   "metadata": {
    "collapsed": false,
    "pycharm": {
     "name": "#%%\n"
    }
   }
  },
  {
   "cell_type": "code",
   "execution_count": 28,
   "outputs": [
    {
     "data": {
      "text/plain": "torch.Size([6, 500, 4])"
     },
     "execution_count": 28,
     "metadata": {},
     "output_type": "execute_result"
    }
   ],
   "source": [
    "seed = 42\n",
    "def get_samples(inp, i, n_samples=500):\n",
    "    np.random.seed(seed)\n",
    "    if (i+1) * n_samples > inp.shape[0]:\n",
    "        return inp[np.random.choice(inp.shape[0], n_samples, replace=True), :]\n",
    "    else:\n",
    "        return inp[i*n_samples:(i+1)*n_samples, :]\n",
    "\n",
    "inp = torch.stack([get_samples(inp, i) for i in range(len(inp)//500+1)], dim=0)\n",
    "inp.shape"
   ],
   "metadata": {
    "collapsed": false,
    "pycharm": {
     "name": "#%%\n"
    }
   }
  },
  {
   "cell_type": "code",
   "execution_count": 29,
   "outputs": [
    {
     "data": {
      "text/plain": "tensor(-0.2197, device='cuda:0', grad_fn=<MeanBackward0>)"
     },
     "execution_count": 29,
     "metadata": {},
     "output_type": "execute_result"
    }
   ],
   "source": [
    "mi(inp).mean()"
   ],
   "metadata": {
    "collapsed": false,
    "pycharm": {
     "name": "#%%\n"
    }
   }
  },
  {
   "cell_type": "code",
   "execution_count": 7,
   "outputs": [],
   "source": [],
   "metadata": {
    "collapsed": false,
    "pycharm": {
     "name": "#%%\n"
    }
   }
  }
 ],
 "metadata": {
  "kernelspec": {
   "name": "conda-env-sensorium-py",
   "language": "python",
   "display_name": "Python [conda env:sensorium]"
  },
  "language_info": {
   "codemirror_mode": {
    "name": "ipython",
    "version": 2
   },
   "file_extension": ".py",
   "mimetype": "text/x-python",
   "name": "python",
   "nbconvert_exporter": "python",
   "pygments_lexer": "ipython2",
   "version": "2.7.6"
  }
 },
 "nbformat": 4,
 "nbformat_minor": 0
}