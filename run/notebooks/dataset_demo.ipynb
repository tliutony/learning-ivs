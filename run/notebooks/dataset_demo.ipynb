{
 "cells": [
  {
   "cell_type": "code",
   "execution_count": 1,
   "outputs": [],
   "source": [
    "import sys\n",
    "sys.path.append('/home/charon/project')\n",
    "from shallowmind.src.data.dataset import CILiNGAM"
   ],
   "metadata": {
    "collapsed": false,
    "pycharm": {
     "name": "#%%\n"
    }
   }
  },
  {
   "cell_type": "code",
   "execution_count": 2,
   "outputs": [
    {
     "name": "stdout",
     "output_type": "stream",
     "text": [
      "The pipeline is not setup, will use identity transform\n",
      "{'n_samples': 4058, 'seed': 42, 'iv_strength': 0.1, 'conf_strength': 5.0, 'treat_effect': 0.3946339367881464, 'conf_effect': 1.624074561769746}\n",
      "{'n_samples': 1593, 'seed': 43, 'iv_strength': 0.1, 'conf_strength': 5.0, 'treat_effect': -1.037641520138605, 'conf_effect': 2.308556223244559}\n",
      "{'n_samples': 8431, 'seed': 44, 'iv_strength': 0.1, 'conf_strength': 5.0, 'treat_effect': -0.5579966549748572, 'conf_effect': 2.4372433512322877}\n",
      "{'n_samples': 9895, 'seed': 45, 'iv_strength': 0.1, 'conf_strength': 5.0, 'treat_effect': -1.6908417356833092, 'conf_effect': 2.7778779838872123}\n",
      "{'n_samples': 7946, 'seed': 46, 'iv_strength': 0.1, 'conf_strength': 5.0, 'treat_effect': 1.0323034585992708, 'conf_effect': 2.2523077425267193}\n",
      "{'n_samples': 1578, 'seed': 47, 'iv_strength': 0.1, 'conf_strength': 5.0, 'treat_effect': -0.5941287764291943, 'conf_effect': 3.830420553036324}\n",
      "{'n_samples': 666, 'seed': 48, 'iv_strength': 0.1, 'conf_strength': 5.0, 'treat_effect': -0.8040944901641685, 'conf_effect': 4.1681370426217175}\n",
      "{'n_samples': 3359, 'seed': 49, 'iv_strength': 0.1, 'conf_strength': 5.0, 'treat_effect': 1.566413753111056, 'conf_effect': 3.7331070398999477}\n",
      "{'n_samples': 5198, 'seed': 50, 'iv_strength': 0.1, 'conf_strength': 5.0, 'treat_effect': -0.4146803611088923, 'conf_effect': 2.509260390764496}\n",
      "{'n_samples': 6919, 'seed': 51, 'iv_strength': 0.1, 'conf_strength': 5.0, 'treat_effect': 0.5760789080793236, 'conf_effect': 2.136851994961158}\n",
      "{'n_samples': 8319, 'seed': 52, 'iv_strength': 0.1, 'conf_strength': 5.0, 'treat_effect': 0.47368707739844096, 'conf_effect': 1.3931378613475967}\n",
      "{'n_samples': 8543, 'seed': 53, 'iv_strength': 0.1, 'conf_strength': 5.0, 'treat_effect': -0.591300345232153, 'conf_effect': 3.343405536539349}\n",
      "{'n_samples': 4491, 'seed': 54, 'iv_strength': 0.1, 'conf_strength': 5.0, 'treat_effect': 0.0731309126699049, 'conf_effect': 1.034421808035077}\n",
      "{'n_samples': 1384, 'seed': 55, 'iv_strength': 0.1, 'conf_strength': 5.0, 'treat_effect': -1.0299091940077436, 'conf_effect': 3.1244953192290126}\n",
      "{'n_samples': 9849, 'seed': 56, 'iv_strength': 0.1, 'conf_strength': 5.0, 'treat_effect': -1.2144383311419018, 'conf_effect': 2.4177858585640943}\n",
      "{'n_samples': 1329, 'seed': 57, 'iv_strength': 0.1, 'conf_strength': 5.0, 'treat_effect': -0.756869205759652, 'conf_effect': 3.263823563046022}\n",
      "{'n_samples': 3968, 'seed': 58, 'iv_strength': 0.1, 'conf_strength': 5.0, 'treat_effect': -1.6975117336194523, 'conf_effect': 3.2870463293108836}\n",
      "{'n_samples': 9278, 'seed': 59, 'iv_strength': 0.1, 'conf_strength': 5.0, 'treat_effect': -1.6633722365541672, 'conf_effect': 3.2942947357505106}\n",
      "{'n_samples': 3358, 'seed': 60, 'iv_strength': 0.1, 'conf_strength': 5.0, 'treat_effect': 0.6629982811532362, 'conf_effect': 3.2678832038768535}\n",
      "{'n_samples': 8332, 'seed': 61, 'iv_strength': 0.1, 'conf_strength': 5.0, 'treat_effect': -0.0017947706134431307, 'conf_effect': 4.859705732890713}\n",
      "{'n_samples': 820, 'seed': 62, 'iv_strength': 0.1, 'conf_strength': 5.0, 'treat_effect': -0.35439200076090227, 'conf_effect': 3.525661494923059}\n",
      "{'n_samples': 5762, 'seed': 63, 'iv_strength': 0.1, 'conf_strength': 5.0, 'treat_effect': 0.10269024437141105, 'conf_effect': 1.6121543272475614}\n",
      "{'n_samples': 4101, 'seed': 64, 'iv_strength': 0.1, 'conf_strength': 5.0, 'treat_effect': -0.20056440457818958, 'conf_effect': 2.8280793015788745}\n",
      "{'n_samples': 2577, 'seed': 65, 'iv_strength': 0.1, 'conf_strength': 5.0, 'treat_effect': -1.3094213777791741, 'conf_effect': 2.2135055235136414}\n",
      "{'n_samples': 1965, 'seed': 66, 'iv_strength': 0.1, 'conf_strength': 5.0, 'treat_effect': 0.7164355017825259, 'conf_effect': 1.7778002293354707}\n",
      "{'n_samples': 5685, 'seed': 67, 'iv_strength': 0.1, 'conf_strength': 5.0, 'treat_effect': -0.6736327159462632, 'conf_effect': 1.2399917182424716}\n",
      "{'n_samples': 2964, 'seed': 68, 'iv_strength': 0.1, 'conf_strength': 5.0, 'treat_effect': -1.5499513287555144, 'conf_effect': 3.4431071299886016}\n",
      "{'n_samples': 3314, 'seed': 69, 'iv_strength': 0.1, 'conf_strength': 5.0, 'treat_effect': 1.1576370257235702, 'conf_effect': 3.24539590308229}\n",
      "{'n_samples': 9311, 'seed': 70, 'iv_strength': 0.1, 'conf_strength': 5.0, 'treat_effect': 1.6206806948951877, 'conf_effect': 2.267330284762958}\n",
      "{'n_samples': 2262, 'seed': 71, 'iv_strength': 0.1, 'conf_strength': 5.0, 'treat_effect': -1.2052102038404713, 'conf_effect': 4.666231863597966}\n",
      "{'n_samples': 1514, 'seed': 72, 'iv_strength': 0.1, 'conf_strength': 5.0, 'treat_effect': -0.5232516930001396, 'conf_effect': 2.65045857490574}\n",
      "{'n_samples': 6605, 'seed': 73, 'iv_strength': 0.1, 'conf_strength': 5.0, 'treat_effect': 0.4410289084519854, 'conf_effect': 2.971955934444767}\n",
      "{'n_samples': 2420, 'seed': 74, 'iv_strength': 0.1, 'conf_strength': 5.0, 'treat_effect': -0.6916591956742613, 'conf_effect': 1.9954419043393337}\n",
      "{'n_samples': 5904, 'seed': 75, 'iv_strength': 0.1, 'conf_strength': 5.0, 'treat_effect': 1.7186327086962758, 'conf_effect': 3.7187681655045197}\n",
      "{'n_samples': 3452, 'seed': 76, 'iv_strength': 0.1, 'conf_strength': 5.0, 'treat_effect': -1.2251459253058292, 'conf_effect': 1.4412533002104015}\n",
      "{'n_samples': 9231, 'seed': 77, 'iv_strength': 0.1, 'conf_strength': 5.0, 'treat_effect': -1.44274172758906, 'conf_effect': 1.3492781919584003}\n",
      "{'n_samples': 957, 'seed': 78, 'iv_strength': 0.1, 'conf_strength': 5.0, 'treat_effect': 1.20043436663153, 'conf_effect': 4.861189000625042}\n",
      "{'n_samples': 5256, 'seed': 79, 'iv_strength': 0.1, 'conf_strength': 5.0, 'treat_effect': -1.4032873381915674, 'conf_effect': 4.28111174327766}\n",
      "{'n_samples': 5458, 'seed': 80, 'iv_strength': 0.1, 'conf_strength': 5.0, 'treat_effect': 0.6979274987559694, 'conf_effect': 4.63228833325326}\n",
      "{'n_samples': 3876, 'seed': 81, 'iv_strength': 0.1, 'conf_strength': 5.0, 'treat_effect': 1.655276742580106, 'conf_effect': 4.349858913505576}\n",
      "{'n_samples': 3114, 'seed': 82, 'iv_strength': 0.1, 'conf_strength': 5.0, 'treat_effect': 1.1121692292616636, 'conf_effect': 2.912454118002}\n",
      "{'n_samples': 2941, 'seed': 83, 'iv_strength': 0.1, 'conf_strength': 5.0, 'treat_effect': 1.1085217378655994, 'conf_effect': 4.3094665133418335}\n",
      "{'n_samples': 937, 'seed': 84, 'iv_strength': 0.1, 'conf_strength': 5.0, 'treat_effect': 0.51392002017834, 'conf_effect': 4.960440240107667}\n",
      "{'n_samples': 6393, 'seed': 85, 'iv_strength': 0.1, 'conf_strength': 5.0, 'treat_effect': 0.6151948495703832, 'conf_effect': 2.0940261374090663}\n",
      "{'n_samples': 2424, 'seed': 86, 'iv_strength': 0.1, 'conf_strength': 5.0, 'treat_effect': 1.0183712461020917, 'conf_effect': 1.9097070629444883}\n",
      "{'n_samples': 6734, 'seed': 87, 'iv_strength': 0.1, 'conf_strength': 5.0, 'treat_effect': -1.6086712907384513, 'conf_effect': 1.9629796631247238}\n",
      "{'n_samples': 6651, 'seed': 88, 'iv_strength': 0.1, 'conf_strength': 5.0, 'treat_effect': 1.5851408160395515, 'conf_effect': 3.7999647626699518}\n",
      "{'n_samples': 5247, 'seed': 89, 'iv_strength': 0.1, 'conf_strength': 5.0, 'treat_effect': -1.6123131622433435, 'conf_effect': 3.2567404582476986}\n",
      "{'n_samples': 1954, 'seed': 90, 'iv_strength': 0.1, 'conf_strength': 5.0, 'treat_effect': 1.6179909232211749, 'conf_effect': 1.744313050668164}\n",
      "{'n_samples': 2409, 'seed': 91, 'iv_strength': 0.1, 'conf_strength': 5.0, 'treat_effect': -1.6266653260769286, 'conf_effect': 2.332315249990734}\n",
      "{'n_samples': 8915, 'seed': 92, 'iv_strength': 0.1, 'conf_strength': 5.0, 'treat_effect': -0.08452141261124257, 'conf_effect': 1.0014162389261991}\n",
      "{'n_samples': 6260, 'seed': 93, 'iv_strength': 0.1, 'conf_strength': 5.0, 'treat_effect': 1.8480139406033693, 'conf_effect': 3.1436756293251746}\n",
      "{'n_samples': 7334, 'seed': 94, 'iv_strength': 0.1, 'conf_strength': 5.0, 'treat_effect': -0.30626808439786, 'conf_effect': 2.8030644423610545}\n",
      "{'n_samples': 2673, 'seed': 95, 'iv_strength': 0.1, 'conf_strength': 5.0, 'treat_effect': 0.8757035823576258, 'conf_effect': 3.131933533736569}\n",
      "{'n_samples': 2539, 'seed': 96, 'iv_strength': 0.1, 'conf_strength': 5.0, 'treat_effect': 1.6155218989404294, 'conf_effect': 3.827517079897712}\n",
      "{'n_samples': 8450, 'seed': 97, 'iv_strength': 0.1, 'conf_strength': 5.0, 'treat_effect': -0.8616759638854736, 'conf_effect': 4.0848663520390165}\n",
      "{'n_samples': 7456, 'seed': 98, 'iv_strength': 0.1, 'conf_strength': 5.0, 'treat_effect': 1.1223317019106864, 'conf_effect': 2.9914971114984734}\n",
      "{'n_samples': 6886, 'seed': 99, 'iv_strength': 0.1, 'conf_strength': 5.0, 'treat_effect': -1.8742144494948074, 'conf_effect': 4.232199853459391}\n",
      "{'n_samples': 5662, 'seed': 100, 'iv_strength': 0.1, 'conf_strength': 5.0, 'treat_effect': 1.3791045292796147, 'conf_effect': 1.0188754247638903}\n",
      "{'n_samples': 5405, 'seed': 101, 'iv_strength': 0.1, 'conf_strength': 5.0, 'treat_effect': -1.3139133750995877, 'conf_effect': 3.74110792678925}\n",
      "{'n_samples': 6177, 'seed': 102, 'iv_strength': 0.1, 'conf_strength': 5.0, 'treat_effect': 0.9229610716361374, 'conf_effect': 3.3149575642438758}\n",
      "{'n_samples': 4605, 'seed': 103, 'iv_strength': 0.1, 'conf_strength': 5.0, 'treat_effect': 1.310528990482565, 'conf_effect': 3.3486850405029}\n",
      "{'n_samples': 1905, 'seed': 104, 'iv_strength': 0.1, 'conf_strength': 5.0, 'treat_effect': -0.8061016978396673, 'conf_effect': 1.742826968402467}\n",
      "{'n_samples': 1295, 'seed': 105, 'iv_strength': 0.1, 'conf_strength': 5.0, 'treat_effect': -1.577252658723662, 'conf_effect': 3.1425601760870157}\n",
      "{'n_samples': 581, 'seed': 106, 'iv_strength': 0.1, 'conf_strength': 5.0, 'treat_effect': 0.4408750869084641, 'conf_effect': 4.408239269901216}\n",
      "{'n_samples': 2045, 'seed': 107, 'iv_strength': 0.1, 'conf_strength': 5.0, 'treat_effect': -1.0989423425249663, 'conf_effect': 2.365047138492638}\n",
      "{'n_samples': 2719, 'seed': 108, 'iv_strength': 0.1, 'conf_strength': 5.0, 'treat_effect': -1.4835428536810435, 'conf_effect': 3.7449658311077054}\n",
      "{'n_samples': 6308, 'seed': 109, 'iv_strength': 0.1, 'conf_strength': 5.0, 'treat_effect': -1.2217230071759975, 'conf_effect': 4.099814656036303}\n",
      "{'n_samples': 1602, 'seed': 110, 'iv_strength': 0.1, 'conf_strength': 5.0, 'treat_effect': 0.4511303262213664, 'conf_effect': 3.717962210081667}\n",
      "{'n_samples': 6315, 'seed': 111, 'iv_strength': 0.1, 'conf_strength': 5.0, 'treat_effect': 1.0770498900924914, 'conf_effect': 2.1813012176115048}\n",
      "{'n_samples': 4063, 'seed': 112, 'iv_strength': 0.1, 'conf_strength': 5.0, 'treat_effect': -1.697291181191754, 'conf_effect': 4.107718634872482}\n",
      "{'n_samples': 8593, 'seed': 113, 'iv_strength': 0.1, 'conf_strength': 5.0, 'treat_effect': -0.254025809685567, 'conf_effect': 1.5107109369340477}\n",
      "{'n_samples': 1940, 'seed': 114, 'iv_strength': 0.1, 'conf_strength': 5.0, 'treat_effect': -0.046347289397425495, 'conf_effect': 4.0619717541161835}\n",
      "{'n_samples': 2362, 'seed': 115, 'iv_strength': 0.1, 'conf_strength': 5.0, 'treat_effect': 0.30720299490321334, 'conf_effect': 3.9114868490293815}\n",
      "{'n_samples': 4064, 'seed': 116, 'iv_strength': 0.1, 'conf_strength': 5.0, 'treat_effect': -1.8834487075074806, 'conf_effect': 1.0099660274329487}\n",
      "{'n_samples': 4788, 'seed': 117, 'iv_strength': 0.1, 'conf_strength': 5.0, 'treat_effect': 1.5412136030410415, 'conf_effect': 1.74577435820449}\n",
      "{'n_samples': 9455, 'seed': 118, 'iv_strength': 0.1, 'conf_strength': 5.0, 'treat_effect': 1.635801684254493, 'conf_effect': 3.5657022591347687}\n",
      "{'n_samples': 8554, 'seed': 119, 'iv_strength': 0.1, 'conf_strength': 5.0, 'treat_effect': 1.009086429184947, 'conf_effect': 3.523325953239474}\n",
      "{'n_samples': 6940, 'seed': 120, 'iv_strength': 0.1, 'conf_strength': 5.0, 'treat_effect': -0.091430139828935, 'conf_effect': 2.841039256264941}\n",
      "{'n_samples': 1557, 'seed': 121, 'iv_strength': 0.1, 'conf_strength': 5.0, 'treat_effect': -1.392221771115428, 'conf_effect': 4.3207125531905355}\n",
      "{'n_samples': 1991, 'seed': 122, 'iv_strength': 0.1, 'conf_strength': 5.0, 'treat_effect': -0.19314836795413148, 'conf_effect': 2.632261059231795}\n",
      "{'n_samples': 7116, 'seed': 123, 'iv_strength': 0.1, 'conf_strength': 5.0, 'treat_effect': 0.20525907633156493, 'conf_effect': 3.8778758791422523}\n",
      "{'n_samples': 1507, 'seed': 124, 'iv_strength': 0.1, 'conf_strength': 5.0, 'treat_effect': -0.16703526495647436, 'conf_effect': 2.538823612176545}\n",
      "{'n_samples': 5313, 'seed': 125, 'iv_strength': 0.1, 'conf_strength': 5.0, 'treat_effect': -1.4697898911993605, 'conf_effect': 1.5243405988428118}\n",
      "{'n_samples': 1499, 'seed': 126, 'iv_strength': 0.1, 'conf_strength': 5.0, 'treat_effect': -1.5380857493158326, 'conf_effect': 3.990910479004226}\n",
      "{'n_samples': 5476, 'seed': 127, 'iv_strength': 0.1, 'conf_strength': 5.0, 'treat_effect': 1.091162591811634, 'conf_effect': 3.208595514828055}\n",
      "{'n_samples': 8733, 'seed': 128, 'iv_strength': 0.1, 'conf_strength': 5.0, 'treat_effect': -1.8336262250092505, 'conf_effect': 1.9556973387620582}\n",
      "{'n_samples': 5920, 'seed': 129, 'iv_strength': 0.1, 'conf_strength': 5.0, 'treat_effect': -1.6605744895501977, 'conf_effect': 4.894617407152172}\n",
      "{'n_samples': 1845, 'seed': 130, 'iv_strength': 0.1, 'conf_strength': 5.0, 'treat_effect': -1.4967543255585705, 'conf_effect': 2.975530321956835}\n",
      "{'n_samples': 6676, 'seed': 131, 'iv_strength': 0.1, 'conf_strength': 5.0, 'treat_effect': 0.5651846325837826, 'conf_effect': 3.7620482176258028}\n",
      "{'n_samples': 7918, 'seed': 132, 'iv_strength': 0.1, 'conf_strength': 5.0, 'treat_effect': 1.1267311668290487, 'conf_effect': 4.2063884729608105}\n",
      "{'n_samples': 4485, 'seed': 133, 'iv_strength': 0.1, 'conf_strength': 5.0, 'treat_effect': -1.4310259404888286, 'conf_effect': 2.757072536797704}\n",
      "{'n_samples': 8208, 'seed': 134, 'iv_strength': 0.1, 'conf_strength': 5.0, 'treat_effect': 1.5275952278140745, 'conf_effect': 3.6602989881500174}\n",
      "{'n_samples': 6782, 'seed': 135, 'iv_strength': 0.1, 'conf_strength': 5.0, 'treat_effect': 1.4519292535556048, 'conf_effect': 4.128529042223104}\n",
      "{'n_samples': 1955, 'seed': 136, 'iv_strength': 0.1, 'conf_strength': 5.0, 'treat_effect': -1.390324006128398, 'conf_effect': 1.9682853209456894}\n",
      "{'n_samples': 9466, 'seed': 137, 'iv_strength': 0.1, 'conf_strength': 5.0, 'treat_effect': 0.7999614108374269, 'conf_effect': 2.99840137940659}\n",
      "{'n_samples': 7618, 'seed': 138, 'iv_strength': 0.1, 'conf_strength': 5.0, 'treat_effect': 1.8089537582933688, 'conf_effect': 4.360403300214674}\n",
      "{'n_samples': 5164, 'seed': 139, 'iv_strength': 0.1, 'conf_strength': 5.0, 'treat_effect': 1.8358449492702955, 'conf_effect': 1.632691865919624}\n",
      "{'n_samples': 7605, 'seed': 140, 'iv_strength': 0.1, 'conf_strength': 5.0, 'treat_effect': -0.8137467646485179, 'conf_effect': 1.007874009475243}\n",
      "{'n_samples': 9215, 'seed': 141, 'iv_strength': 0.1, 'conf_strength': 5.0, 'treat_effect': -0.31445524480880227, 'conf_effect': 3.8568288848858585}\n"
     ]
    },
    {
     "name": "stderr",
     "output_type": "stream",
     "text": [
      "Generating data...: 100%|███████████████████████████████████████████████████████████████████████████████████████████████████████████████████████████████████████████████████| 100/100 [00:00<00:00, 237.19it/s]\n",
      "Converting to batch...: 100%|██████████████████████████████████████████████████████████████████████████████████████████████████████████████████████████████████████████████████| 20/20 [00:00<00:00, 82.57it/s]\n"
     ]
    }
   ],
   "source": [
    "dataset = CILiNGAM(base_seed=42, mini_batch_size=500, n_datasets=100, n_samples=[500, 10000],\n",
    "                   variable_cfg=dict(iv_strength=[0.1, 0.1],\n",
    "                                     conf_strength=[5, 5],\n",
    "                                     treat_effect=[-2, 2],\n",
    "                                     conf_effect=[1, 5]))"
   ],
   "metadata": {
    "collapsed": false,
    "pycharm": {
     "name": "#%%\n"
    }
   }
  },
  {
   "cell_type": "code",
   "execution_count": 3,
   "outputs": [
    {
     "data": {
      "text/plain": "({'seq': array([[ 1.18064091e+00, -4.63560938e+00, -3.01560911e+00,\n           4.05800000e+03],\n         [ 5.51476275e-01, -9.59242755e+00, -6.76337544e+00,\n           4.05800000e+03],\n         [ 2.06361771e-01, -6.01779622e+00, -6.18563994e+00,\n           4.05800000e+03],\n         ...,\n         [-1.13768567e+00,  1.85715776e+00,  4.75933341e-01,\n           4.05800000e+03],\n         [ 1.12605025e+00, -2.92223790e+00, -2.94359963e+00,\n           4.05800000e+03],\n         [-6.46572884e-01,  4.30800593e+00,  1.99452465e+00,\n           4.05800000e+03]])},\n tensor(0.3946))"
     },
     "execution_count": 3,
     "metadata": {},
     "output_type": "execute_result"
    }
   ],
   "source": [
    "dataset[0]"
   ],
   "metadata": {
    "collapsed": false,
    "pycharm": {
     "name": "#%%\n"
    }
   }
  },
  {
   "cell_type": "code",
   "execution_count": null,
   "outputs": [],
   "source": [],
   "metadata": {
    "collapsed": false,
    "pycharm": {
     "name": "#%%\n"
    }
   }
  }
 ],
 "metadata": {
  "kernelspec": {
   "name": "conda-env-sensorium-py",
   "language": "python",
   "display_name": "Python [conda env:sensorium]"
  },
  "language_info": {
   "codemirror_mode": {
    "name": "ipython",
    "version": 2
   },
   "file_extension": ".py",
   "mimetype": "text/x-python",
   "name": "python",
   "nbconvert_exporter": "python",
   "pygments_lexer": "ipython2",
   "version": "2.7.6"
  }
 },
 "nbformat": 4,
 "nbformat_minor": 0
}