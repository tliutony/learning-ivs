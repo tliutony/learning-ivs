{
 "cells": [
  {
   "cell_type": "markdown",
   "metadata": {},
   "source": [
    "# Estimator Benchmarks\n",
    "\n",
    "Notebook for benchmarking known IV estimators against different data generating processes.\n",
    "\n",
    "Current roster:\n",
    "- Split-sample IV **TODO**\n",
    "- 2SLS\n",
    "- Jackknife IV **TODO**\n",
    "- LIML \n",
    "- Mostly harmless ML **TODO**\n",
    "- DeepIV **TODO**\n",
    "- DoubleML **TODO**"
   ]
  },
  {
   "cell_type": "markdown",
   "metadata": {},
   "source": [
    "# Imports"
   ]
  },
  {
   "cell_type": "code",
   "execution_count": 2,
   "metadata": {},
   "outputs": [],
   "source": [
    "import pandas as pd\n",
    "import numpy as np\n",
    "import matplotlib.pyplot as plt\n",
    "import seaborn as sns\n",
    "\n",
    "from linearmodels.iv import IV2SLS"
   ]
  },
  {
   "cell_type": "code",
   "execution_count": 3,
   "metadata": {},
   "outputs": [],
   "source": [
    "# this is assuming a notebook placed inside the notebooks/ folder\n",
    "import sys\n",
    "sys.path.append('../src/data')\n",
    "from lin_norm_generator import LinearNormalDataGenerator\n",
    "\n",
    "df = LinearNormalDataGenerator().generate()"
   ]
  },
  {
   "cell_type": "markdown",
   "metadata": {},
   "source": [
    "# TabPFN-style data generating process"
   ]
  },
  {
   "cell_type": "code",
   "execution_count": 4,
   "metadata": {},
   "outputs": [],
   "source": [
    "import torch\n",
    "from torch import nn\n",
    "from torch.distributions import MultivariateNormal\n",
    "import torch.nn.functional as F"
   ]
  },
  {
   "cell_type": "code",
   "execution_count": 5,
   "metadata": {},
   "outputs": [],
   "source": [
    "MAX_VARS = 100\n",
    "\n",
    "class GaussianNoise(nn.Module):\n",
    "    \"\"\"\n",
    "    Lifted from https://github.com/automl/TabPFN/blob/main/tabpfn/priors/mlp.py\n",
    "    TODO introduce shared covariance matrix\n",
    "    \"\"\"\n",
    "    def __init__(self, std, device):\n",
    "        super().__init__()\n",
    "        self.std = std\n",
    "        self.device=device\n",
    "\n",
    "    def forward(self, x):\n",
    "        return x + torch.normal(torch.zeros_like(x), self.std)\n",
    "\n",
    "\n",
    "def causes_sampler_f(num_causes):\n",
    "    means = np.random.normal(0, 1, (num_causes))\n",
    "    std = np.abs(np.random.normal(0, 1, (num_causes)) * means)\n",
    "    return means, std\n",
    "\n",
    "class IVGenerator(nn.Module):\n",
    "    \"\"\"\n",
    "    Neural network to generate IV datasets.\n",
    "\n",
    "    TODO add ability to generate IV controls to cover the Angrist/Frandsen case\n",
    "    \"\"\"\n",
    "    def __init__(self, \n",
    "                tau: float,\n",
    "                max_vars: int,\n",
    "                n_instruments: int,\n",
    "                instrument_covariance: torch.Tensor,\n",
    "                instrument_strength: float, # this currently translates to mu^2/n_samples\n",
    "                tau_activation: str = 'identity',\n",
    "                instrument_activation: str = 'identity',\n",
    "                # TODO add controls as well\n",
    "                control_activation: str = 'identity',\n",
    "                control_covariance: torch.Tensor = None, \n",
    "                control_str: float = 0,\n",
    "                n_controls: int = 0,\n",
    "\n",
    "                ):\n",
    "        super().__init__()\n",
    "        self.max_vars = max_vars\n",
    "        # TODO are these actually needed?\n",
    "        #self.controls = nn.Linear(max_vars, 1)\n",
    "        self.instruments = nn.Linear(max_vars, 1)\n",
    "\n",
    "        #Nself.n_controls = n_controls\n",
    "        self.n_instruments = n_instruments\n",
    "\n",
    "        if control_covariance is not None:\n",
    "            assert control_covariance.shape == (n_controls, n_controls)\n",
    "\n",
    "        assert instrument_covariance.shape == (n_instruments, n_instruments)\n",
    "        self.instrument_covariance = instrument_covariance\n",
    "        self.instrument_sampler = MultivariateNormal(torch.zeros(self.n_instruments), self.instrument_covariance)\n",
    "        \n",
    "        # currently follows the Beta pattern of Lennon et al. 2022, corresponds to their pi\n",
    "        self.instrument_coefficients = torch.pow(torch.ones(self.n_instruments) * 0.7, \n",
    "                                         torch.arange(0, self.n_instruments))\n",
    "\n",
    "        # shuffle coefficients\n",
    "        self.instrument_coefficients = self.instrument_coefficients[torch.randperm(self.n_instruments)]\n",
    "        # determine C coefficient\n",
    "        C = torch.sqrt(instrument_strength / (torch.t(self.instrument_coefficients) @ self.instrument_covariance @ self.instrument_coefficients))\n",
    "\n",
    "        # TODO debug this, should be 1\n",
    "        self.sigma_v = torch.abs(C*torch.t(self.instrument_coefficients) @ self.instrument_covariance @ self.instrument_coefficients)\n",
    "        self.sigma_v = torch.sqrt(self.sigma_v)\n",
    "        self.sigma_y = 1\n",
    "\n",
    "        self.instrument_coefficients = C * self.instrument_coefficients\n",
    "\n",
    "        \n",
    "        # TODO need to ensure that confounder covariance is positive definite\n",
    "        self.confound_covariance = torch.Tensor([[self.sigma_y**2, self.sigma_y*self.sigma_v], \n",
    "                                                 [self.sigma_y*self.sigma_v, self.sigma_v**2]])\n",
    "        print(self.confound_covariance)\n",
    "        self.confound_sampler = MultivariateNormal(torch.zeros(2), self.confound_covariance)\n",
    "\n",
    "        self.tau = tau\n",
    "        self.control_str = control_str\n",
    "\n",
    "        self.activations = {\n",
    "            'identity': lambda x: x,\n",
    "            'relu': F.relu,\n",
    "            'sigmoid': F.sigmoid,\n",
    "            'tanh': F.tanh,\n",
    "            'softplus': F.softplus,\n",
    "            'leaky_relu': F.leaky_relu,\n",
    "            'elu': F.elu,\n",
    "        }\n",
    "    \n",
    "        self.tau_activation = self.activations[tau_activation]\n",
    "        self.instrument_activation = self.activations[instrument_activation]\n",
    "        #self.confounder_activation = self.activations[confounder_activation]\n",
    "\n",
    "\n",
    "    def forward(self):\n",
    "        \"\"\"Generates a single data sample\"\"\"\n",
    "        #confound_sample = torch.cat([torch.randn(self.n_confounds), torch.zeros(MAX_VARS - self.n_confounds)])\n",
    "\n",
    "        # noise sample [\\epislon_y, \\epeilson_v] according to confounder covariance\n",
    "        #noise_sample = torch.normal(TODO)\n",
    "        instrument_sample = torch.cat([self.instrument_sampler.sample(), torch.zeros(self.max_vars - self.n_instruments)])\n",
    "\n",
    "        epislon_y, epsilon_v = self.confound_sampler.sample()\n",
    "        #confounds = self.confounder_activation(self.confounders(confound_sample))\n",
    "        pi = torch.cat([self.instrument_coefficients, torch.zeros(self.max_vars - self.n_instruments)])\n",
    "        treat = self.instrument_activation(torch.t(pi) @ instrument_sample) + epsilon_v\n",
    "        \n",
    "        #print(treat.shape)\n",
    "\n",
    "        outcome = self.tau*self.tau_activation(treat) + torch.randn(1) + epislon_y\n",
    "\n",
    "        # return data matrix of T, Y, Z\n",
    "        return torch.cat([torch.Tensor([treat, outcome]), instrument_sample])\n",
    "\n",
    "        # return data matrix of T, Y, X, Z\n",
    "        #return torch.cat([treat, outcome, confound_sample, instrument_sample])\n",
    "        \n",
    "    def batch(self, batch_size: int):\n",
    "        \"\"\"Generate batch of examples\"\"\"\n",
    "        return torch.stack([self.forward() for _ in range(batch_size)])\n"
   ]
  },
  {
   "cell_type": "code",
   "execution_count": 6,
   "metadata": {},
   "outputs": [],
   "source": [
    "def generate_cov_matrix(n_vars, base=0.5):\n",
    "    \"\"\"Generates the covariance matrix for the instruments per Lennon et al. 2022\"\"\"\n",
    "    cov = np.zeros((n_vars, n_vars))\n",
    "    for i in range(n_vars):\n",
    "        for j in range(n_vars):\n",
    "            cov[i, j] = base**(np.abs(i-j))\n",
    "    return cov"
   ]
  },
  {
   "cell_type": "code",
   "execution_count": 7,
   "metadata": {},
   "outputs": [
    {
     "name": "stdout",
     "output_type": "stream",
     "text": [
      "tensor([[1.0000, 0.8176],\n",
      "        [0.8176, 0.6685]])\n"
     ]
    }
   ],
   "source": [
    "n_samples = 1000\n",
    "mu2 = 200\n",
    "n_instruments = 100\n",
    "iv_gen = IVGenerator(\n",
    "            tau=1,\n",
    "            max_vars=n_instruments,\n",
    "            n_instruments=n_instruments,\n",
    "            instrument_covariance=torch.Tensor(generate_cov_matrix(n_instruments)), \n",
    "            instrument_strength=mu2/n_samples,\n",
    "        )\n",
    "\n",
    "data = iv_gen.batch(n_samples).detach().numpy()"
   ]
  },
  {
   "cell_type": "code",
   "execution_count": 8,
   "metadata": {},
   "outputs": [
    {
     "data": {
      "text/plain": [
       "(1000, 102)"
      ]
     },
     "execution_count": 8,
     "metadata": {},
     "output_type": "execute_result"
    }
   ],
   "source": [
    "data.shape"
   ]
  },
  {
   "cell_type": "markdown",
   "metadata": {},
   "source": [
    "# Lennon et al. 2022 Replication"
   ]
  },
  {
   "cell_type": "code",
   "execution_count": 9,
   "metadata": {},
   "outputs": [
    {
     "data": {
      "text/plain": [
       "(1000, 100)"
      ]
     },
     "execution_count": 9,
     "metadata": {},
     "output_type": "execute_result"
    }
   ],
   "source": [
    "data[:, :-2].shape"
   ]
  },
  {
   "cell_type": "code",
   "execution_count": 10,
   "metadata": {},
   "outputs": [
    {
     "data": {
      "text/plain": [
       "<Axes: >"
      ]
     },
     "execution_count": 10,
     "metadata": {},
     "output_type": "execute_result"
    },
    {
     "data": {
      "image/png": "[encoded data removed]",
      "text/plain": [
       "<Figure size 640x480 with 2 Axes>"
      ]
     },
     "metadata": {},
     "output_type": "display_data"
    }
   ],
   "source": [
    "sns.heatmap(np.corrcoef(data[:, 2:].T))"
   ]
  },
  {
   "cell_type": "markdown",
   "metadata": {},
   "source": [
    "## Run simulations for Lennon et al. 2022 replication"
   ]
  },
  {
   "cell_type": "code",
   "execution_count": 11,
   "metadata": {},
   "outputs": [],
   "source": [
    "from linearmodels.iv.model import IV2SLS, _OLS, IVLIML\n",
    "from tqdm import tqdm"
   ]
  },
  {
   "cell_type": "code",
   "execution_count": 12,
   "metadata": {},
   "outputs": [
    {
     "name": "stderr",
     "output_type": "stream",
     "text": [
      "100%|██████████| 500/500 [03:04<00:00,  2.71it/s]\n"
     ]
    }
   ],
   "source": [
    "n_trials = 500\n",
    "\n",
    "\n",
    "result_dict = {\n",
    "    'tsls': [],\n",
    "    'ols': [],\n",
    "    'liml': [],\n",
    "}\n",
    "\n",
    "for _ in tqdm(range(n_trials)):\n",
    "    data = iv_gen.batch(n_samples).detach().numpy()\n",
    "\n",
    "    df = pd.DataFrame(data[:, 2:], columns=[f'z{i}' for i in range(n_instruments)])\n",
    "    df['t'] = data[:, 0]\n",
    "    df['y'] = data[:, 1]\n",
    "    \n",
    "    # TSLS\n",
    "    iv = IV2SLS(dependent=df.y, \n",
    "                exog=None,\n",
    "                endog=df.t, \n",
    "                instruments=df.iloc[:, :-2])\n",
    "    result_dict['tsls'].append(iv.fit().params['t'])\n",
    "\n",
    "    # OLS\n",
    "    ols = _OLS(dependent=df.y, exog=df.t)\n",
    "    result_dict['ols'].append(ols.fit().params['t'])\n",
    "\n",
    "    # LIML\n",
    "    liml = IVLIML(dependent=df.y,\n",
    "                  exog=None,\n",
    "                  endog=df.t, \n",
    "                  instruments=df.iloc[:, :-2])\n",
    "    result_dict['liml'].append(liml.fit().params['t'])\n",
    "\n",
    "    # Mostly Harmless ML\n",
    "\n",
    "\n",
    "\n",
    "result_df = pd.DataFrame(result_dict)"
   ]
  },
  {
   "cell_type": "code",
   "execution_count": 13,
   "metadata": {},
   "outputs": [
    {
     "data": {
      "text/html": [
       "<div>\n",
       "<style scoped>\n",
       "    .dataframe tbody tr th:only-of-type {\n",
       "        vertical-align: middle;\n",
       "    }\n",
       "\n",
       "    .dataframe tbody tr th {\n",
       "        vertical-align: top;\n",
       "    }\n",
       "\n",
       "    .dataframe thead th {\n",
       "        text-align: right;\n",
       "    }\n",
       "</style>\n",
       "<table border=\"1\" class=\"dataframe\">\n",
       "  <thead>\n",
       "    <tr style=\"text-align: right;\">\n",
       "      <th></th>\n",
       "      <th>tsls</th>\n",
       "      <th>ols</th>\n",
       "      <th>liml</th>\n",
       "    </tr>\n",
       "  </thead>\n",
       "  <tbody>\n",
       "    <tr>\n",
       "      <th>count</th>\n",
       "      <td>500.000000</td>\n",
       "      <td>500.000000</td>\n",
       "      <td>500.000000</td>\n",
       "    </tr>\n",
       "    <tr>\n",
       "      <th>mean</th>\n",
       "      <td>1.302726</td>\n",
       "      <td>1.938994</td>\n",
       "      <td>1.000674</td>\n",
       "    </tr>\n",
       "    <tr>\n",
       "      <th>std</th>\n",
       "      <td>0.073768</td>\n",
       "      <td>0.037532</td>\n",
       "      <td>0.105632</td>\n",
       "    </tr>\n",
       "    <tr>\n",
       "      <th>min</th>\n",
       "      <td>1.019402</td>\n",
       "      <td>1.823278</td>\n",
       "      <td>0.675558</td>\n",
       "    </tr>\n",
       "    <tr>\n",
       "      <th>25%</th>\n",
       "      <td>1.257055</td>\n",
       "      <td>1.912961</td>\n",
       "      <td>0.928125</td>\n",
       "    </tr>\n",
       "    <tr>\n",
       "      <th>50%</th>\n",
       "      <td>1.303246</td>\n",
       "      <td>1.940016</td>\n",
       "      <td>1.007280</td>\n",
       "    </tr>\n",
       "    <tr>\n",
       "      <th>75%</th>\n",
       "      <td>1.354861</td>\n",
       "      <td>1.963724</td>\n",
       "      <td>1.074608</td>\n",
       "    </tr>\n",
       "    <tr>\n",
       "      <th>max</th>\n",
       "      <td>1.492171</td>\n",
       "      <td>2.039619</td>\n",
       "      <td>1.304513</td>\n",
       "    </tr>\n",
       "  </tbody>\n",
       "</table>\n",
       "</div>"
      ],
      "text/plain": [
       "             tsls         ols        liml\n",
       "count  500.000000  500.000000  500.000000\n",
       "mean     1.302726    1.938994    1.000674\n",
       "std      0.073768    0.037532    0.105632\n",
       "min      1.019402    1.823278    0.675558\n",
       "25%      1.257055    1.912961    0.928125\n",
       "50%      1.303246    1.940016    1.007280\n",
       "75%      1.354861    1.963724    1.074608\n",
       "max      1.492171    2.039619    1.304513"
      ]
     },
     "execution_count": 13,
     "metadata": {},
     "output_type": "execute_result"
    }
   ],
   "source": [
    "result_df.describe()"
   ]
  },
  {
   "cell_type": "code",
   "execution_count": 14,
   "metadata": {},
   "outputs": [
    {
     "data": {
      "image/png": "[encoded data removed]",
      "text/plain": [
       "<Figure size 640x480 with 1 Axes>"
      ]
     },
     "metadata": {},
     "output_type": "display_data"
    }
   ],
   "source": [
    "# plot the distribution of the tsls, ols, and liml estimates on the same plot, \n",
    "# vertical lines for the true value, and vertically separated histograms for each method\n",
    "fig, ax = plt.subplots()\n",
    "result_df.plot(kind='kde', ax=ax)\n",
    "plt.axvline(1, color='black', linestyle='--')\n",
    "plt.show()"
   ]
  },
  {
   "cell_type": "code",
   "execution_count": 20,
   "metadata": {},
   "outputs": [
    {
     "data": {
      "text/html": [
       "<div>\n",
       "<style scoped>\n",
       "    .dataframe tbody tr th:only-of-type {\n",
       "        vertical-align: middle;\n",
       "    }\n",
       "\n",
       "    .dataframe tbody tr th {\n",
       "        vertical-align: top;\n",
       "    }\n",
       "\n",
       "    .dataframe thead th {\n",
       "        text-align: right;\n",
       "    }\n",
       "</style>\n",
       "<table border=\"1\" class=\"dataframe\">\n",
       "  <thead>\n",
       "    <tr style=\"text-align: right;\">\n",
       "      <th></th>\n",
       "      <th>tsls</th>\n",
       "      <th>ols</th>\n",
       "      <th>liml</th>\n",
       "    </tr>\n",
       "  </thead>\n",
       "  <tbody>\n",
       "    <tr>\n",
       "      <th>0</th>\n",
       "      <td>1.406972</td>\n",
       "      <td>2.039619</td>\n",
       "      <td>1.093672</td>\n",
       "    </tr>\n",
       "    <tr>\n",
       "      <th>1</th>\n",
       "      <td>1.278971</td>\n",
       "      <td>1.885910</td>\n",
       "      <td>0.987037</td>\n",
       "    </tr>\n",
       "    <tr>\n",
       "      <th>2</th>\n",
       "      <td>1.378042</td>\n",
       "      <td>1.914792</td>\n",
       "      <td>1.166096</td>\n",
       "    </tr>\n",
       "    <tr>\n",
       "      <th>3</th>\n",
       "      <td>1.406673</td>\n",
       "      <td>1.990384</td>\n",
       "      <td>1.092711</td>\n",
       "    </tr>\n",
       "    <tr>\n",
       "      <th>4</th>\n",
       "      <td>1.284524</td>\n",
       "      <td>1.900751</td>\n",
       "      <td>1.038076</td>\n",
       "    </tr>\n",
       "  </tbody>\n",
       "</table>\n",
       "</div>"
      ],
      "text/plain": [
       "       tsls       ols      liml\n",
       "0  1.406972  2.039619  1.093672\n",
       "1  1.278971  1.885910  0.987037\n",
       "2  1.378042  1.914792  1.166096\n",
       "3  1.406673  1.990384  1.092711\n",
       "4  1.284524  1.900751  1.038076"
      ]
     },
     "execution_count": 20,
     "metadata": {},
     "output_type": "execute_result"
    }
   ],
   "source": [
    "result_df.head()"
   ]
  },
  {
   "cell_type": "code",
   "execution_count": 21,
   "metadata": {},
   "outputs": [
    {
     "data": {
      "text/html": [
       "<div>\n",
       "<style scoped>\n",
       "    .dataframe tbody tr th:only-of-type {\n",
       "        vertical-align: middle;\n",
       "    }\n",
       "\n",
       "    .dataframe tbody tr th {\n",
       "        vertical-align: top;\n",
       "    }\n",
       "\n",
       "    .dataframe thead th {\n",
       "        text-align: right;\n",
       "    }\n",
       "</style>\n",
       "<table border=\"1\" class=\"dataframe\">\n",
       "  <thead>\n",
       "    <tr style=\"text-align: right;\">\n",
       "      <th></th>\n",
       "      <th>x</th>\n",
       "      <th>g</th>\n",
       "    </tr>\n",
       "  </thead>\n",
       "  <tbody>\n",
       "    <tr>\n",
       "      <th>0</th>\n",
       "      <td>64.038123</td>\n",
       "      <td>A</td>\n",
       "    </tr>\n",
       "    <tr>\n",
       "      <th>1</th>\n",
       "      <td>66.147050</td>\n",
       "      <td>B</td>\n",
       "    </tr>\n",
       "    <tr>\n",
       "      <th>2</th>\n",
       "      <td>66.370011</td>\n",
       "      <td>C</td>\n",
       "    </tr>\n",
       "    <tr>\n",
       "      <th>3</th>\n",
       "      <td>68.791019</td>\n",
       "      <td>D</td>\n",
       "    </tr>\n",
       "    <tr>\n",
       "      <th>4</th>\n",
       "      <td>70.583534</td>\n",
       "      <td>E</td>\n",
       "    </tr>\n",
       "  </tbody>\n",
       "</table>\n",
       "</div>"
      ],
      "text/plain": [
       "           x  g\n",
       "0  64.038123  A\n",
       "1  66.147050  B\n",
       "2  66.370011  C\n",
       "3  68.791019  D\n",
       "4  70.583534  E"
      ]
     },
     "execution_count": 21,
     "metadata": {},
     "output_type": "execute_result"
    }
   ],
   "source": [
    "df.head()"
   ]
  },
  {
   "cell_type": "code",
   "execution_count": 17,
   "metadata": {},
   "outputs": [
    {
     "name": "stderr",
     "output_type": "stream",
     "text": [
      "/home/tliu/.conda/envs/liv-test/lib/python3.9/site-packages/seaborn/axisgrid.py:118: UserWarning: Tight layout not applied. tight_layout cannot make axes height small enough to accommodate all axes decorations.\n",
      "  self._figure.tight_layout(*args, **kwargs)\n",
      "/home/tliu/.conda/envs/liv-test/lib/python3.9/site-packages/seaborn/axisgrid.py:118: UserWarning: Tight layout not applied. tight_layout cannot make axes height small enough to accommodate all axes decorations.\n",
      "  self._figure.tight_layout(*args, **kwargs)\n",
      "/home/tliu/.conda/envs/liv-test/lib/python3.9/site-packages/seaborn/axisgrid.py:118: UserWarning: Tight layout not applied. tight_layout cannot make axes height small enough to accommodate all axes decorations.\n",
      "  self._figure.tight_layout(*args, **kwargs)\n",
      "/home/tliu/.conda/envs/liv-test/lib/python3.9/site-packages/seaborn/axisgrid.py:118: UserWarning: Tight layout not applied. tight_layout cannot make axes height small enough to accommodate all axes decorations.\n",
      "  self._figure.tight_layout(*args, **kwargs)\n",
      "/home/tliu/.conda/envs/liv-test/lib/python3.9/site-packages/seaborn/axisgrid.py:118: UserWarning: Tight layout not applied. tight_layout cannot make axes height small enough to accommodate all axes decorations.\n",
      "  self._figure.tight_layout(*args, **kwargs)\n"
     ]
    },
    {
     "data": {
      "text/plain": [
       "<seaborn.axisgrid.FacetGrid at 0x7f80041af280>"
      ]
     },
     "execution_count": 17,
     "metadata": {},
     "output_type": "execute_result"
    },
    {
     "data": {
      "image/png": "[encoded data removed]",
      "text/plain": [
       "<Figure size 750x500 with 10 Axes>"
      ]
     },
     "metadata": {},
     "output_type": "display_data"
    }
   ],
   "source": [
    "# sourced from: https://seaborn.pydata.org/examples/kde_ridgeplot.html\n",
    "sns.set_theme(style=\"white\", rc={\"axes.facecolor\": (0, 0, 0, 0)})\n",
    "\n",
    "# Create the data\n",
    "rs = np.random.RandomState(1979)\n",
    "x = rs.randn(500)\n",
    "g = np.tile(list(\"ABCDEFGHIJ\"), 50)\n",
    "df = pd.DataFrame(dict(x=x, g=g))\n",
    "m = df.g.map(ord)\n",
    "df[\"x\"] += m\n",
    "\n",
    "# Initialize the FacetGrid object\n",
    "pal = sns.cubehelix_palette(10, rot=-.25, light=.7)\n",
    "g = sns.FacetGrid(df, row=\"g\", hue=\"g\", aspect=15, height=.5, palette=pal)\n",
    "\n",
    "# Draw the densities in a few steps\n",
    "g.map(sns.kdeplot, \"x\",\n",
    "      bw_adjust=.5, clip_on=False,\n",
    "      fill=True, alpha=1, linewidth=1.5)\n",
    "g.map(sns.kdeplot, \"x\", clip_on=False, color=\"w\", lw=2, bw_adjust=.5)\n",
    "\n",
    "# passing color=None to refline() uses the hue mapping\n",
    "g.refline(y=0, linewidth=2, linestyle=\"-\", color=None, clip_on=False)\n",
    "\n",
    "\n",
    "# Define and use a simple function to label the plot in axes coordinates\n",
    "def label(x, color, label):\n",
    "    ax = plt.gca()\n",
    "    ax.text(0, .2, label, fontweight=\"bold\", color=color,\n",
    "            ha=\"left\", va=\"center\", transform=ax.transAxes)\n",
    "\n",
    "\n",
    "g.map(label, \"x\")\n",
    "\n",
    "# Set the subplots to overlap\n",
    "g.figure.subplots_adjust(hspace=-.25)\n",
    "\n",
    "# Remove axes details that don't play well with overlap\n",
    "g.set_titles(\"\")\n",
    "g.set(yticks=[], ylabel=\"\")\n",
    "g.despine(bottom=True, left=True)"
   ]
  },
  {
   "cell_type": "code",
   "execution_count": 23,
   "metadata": {},
   "outputs": [
    {
     "data": {
      "text/html": [
       "<div>\n",
       "<style scoped>\n",
       "    .dataframe tbody tr th:only-of-type {\n",
       "        vertical-align: middle;\n",
       "    }\n",
       "\n",
       "    .dataframe tbody tr th {\n",
       "        vertical-align: top;\n",
       "    }\n",
       "\n",
       "    .dataframe thead th {\n",
       "        text-align: right;\n",
       "    }\n",
       "</style>\n",
       "<table border=\"1\" class=\"dataframe\">\n",
       "  <thead>\n",
       "    <tr style=\"text-align: right;\">\n",
       "      <th></th>\n",
       "      <th>method</th>\n",
       "      <th>estimate</th>\n",
       "    </tr>\n",
       "  </thead>\n",
       "  <tbody>\n",
       "    <tr>\n",
       "      <th>0</th>\n",
       "      <td>tsls</td>\n",
       "      <td>1.406972</td>\n",
       "    </tr>\n",
       "    <tr>\n",
       "      <th>1</th>\n",
       "      <td>tsls</td>\n",
       "      <td>1.278971</td>\n",
       "    </tr>\n",
       "    <tr>\n",
       "      <th>2</th>\n",
       "      <td>tsls</td>\n",
       "      <td>1.378042</td>\n",
       "    </tr>\n",
       "    <tr>\n",
       "      <th>3</th>\n",
       "      <td>tsls</td>\n",
       "      <td>1.406673</td>\n",
       "    </tr>\n",
       "    <tr>\n",
       "      <th>4</th>\n",
       "      <td>tsls</td>\n",
       "      <td>1.284524</td>\n",
       "    </tr>\n",
       "  </tbody>\n",
       "</table>\n",
       "</div>"
      ],
      "text/plain": [
       "  method  estimate\n",
       "0   tsls  1.406972\n",
       "1   tsls  1.278971\n",
       "2   tsls  1.378042\n",
       "3   tsls  1.406673\n",
       "4   tsls  1.284524"
      ]
     },
     "execution_count": 23,
     "metadata": {},
     "output_type": "execute_result"
    }
   ],
   "source": [
    "# ridge plots require dataframes in long format\n",
    "result_df_long = result_df.melt(var_name='method', value_name='estimate')\n",
    "result_df_long.head()"
   ]
  },
  {
   "cell_type": "code",
   "execution_count": 29,
   "metadata": {},
   "outputs": [
    {
     "name": "stderr",
     "output_type": "stream",
     "text": [
      "/home/tliu/.conda/envs/liv-test/lib/python3.9/site-packages/seaborn/axisgrid.py:118: UserWarning: Tight layout not applied. tight_layout cannot make axes height small enough to accommodate all axes decorations.\n",
      "  self._figure.tight_layout(*args, **kwargs)\n",
      "/home/tliu/.conda/envs/liv-test/lib/python3.9/site-packages/seaborn/axisgrid.py:118: UserWarning: Tight layout not applied. tight_layout cannot make axes height small enough to accommodate all axes decorations.\n",
      "  self._figure.tight_layout(*args, **kwargs)\n",
      "/home/tliu/.conda/envs/liv-test/lib/python3.9/site-packages/seaborn/axisgrid.py:118: UserWarning: Tight layout not applied. tight_layout cannot make axes height small enough to accommodate all axes decorations.\n",
      "  self._figure.tight_layout(*args, **kwargs)\n",
      "/home/tliu/.conda/envs/liv-test/lib/python3.9/site-packages/seaborn/axisgrid.py:118: UserWarning: Tight layout not applied. tight_layout cannot make axes height small enough to accommodate all axes decorations.\n",
      "  self._figure.tight_layout(*args, **kwargs)\n",
      "/home/tliu/.conda/envs/liv-test/lib/python3.9/site-packages/seaborn/axisgrid.py:118: UserWarning: Tight layout not applied. tight_layout cannot make axes height small enough to accommodate all axes decorations.\n",
      "  self._figure.tight_layout(*args, **kwargs)\n"
     ]
    },
    {
     "data": {
      "text/plain": [
       "(0.0, 2.0)"
      ]
     },
     "execution_count": 29,
     "metadata": {},
     "output_type": "execute_result"
    },
    {
     "data": {
      "image/png": "[encoded data removed]",
      "text/plain": [
       "<Figure size 750x150 with 3 Axes>"
      ]
     },
     "metadata": {},
     "output_type": "display_data"
    }
   ],
   "source": [
    "# Initialize the FacetGrid object\n",
    "pal = sns.cubehelix_palette(10, rot=-.25, light=.7)\n",
    "g = sns.FacetGrid(result_df_long, row=\"method\", hue=\"method\", aspect=15, height=.5, palette=pal)\n",
    "\n",
    "# Draw the densities in a few steps\n",
    "g.map(sns.kdeplot, \"estimate\",\n",
    "      bw_adjust=.5, clip_on=False,\n",
    "      fill=True, alpha=1, linewidth=1.5)\n",
    "g.map(sns.kdeplot, \"estimate\", clip_on=False, color=\"w\", lw=2, bw_adjust=.5)\n",
    "\n",
    "# passing color=None to refline() uses the hue mapping\n",
    "g.refline(y=0, linewidth=2, linestyle=\"-\", color=None, clip_on=False)\n",
    "\n",
    "\n",
    "# Define and use a simple function to label the plot in axes coordinates\n",
    "def label(x, color, label):\n",
    "    ax = plt.gca()\n",
    "    ax.text(0, .2, label, fontweight=\"bold\", color=color,\n",
    "            ha=\"left\", va=\"center\", transform=ax.transAxes)\n",
    "\n",
    "\n",
    "g.map(label, \"estimate\")\n",
    "\n",
    "# Set the subplots to overlap\n",
    "g.figure.subplots_adjust(hspace=-.25)\n",
    "\n",
    "# Remove axes details that don't play well with overlap\n",
    "g.set_titles(\"\")\n",
    "g.set(yticks=[], ylabel=\"\")\n",
    "g.despine(bottom=True, left=True)\n",
    "\n",
    "plt.axvline(x=1, ls='--', color='black')\n",
    "plt.xlim(0, 2)"
   ]
  }
 ],
 "metadata": {
  "kernelspec": {
   "display_name": "livs",
   "language": "python",
   "name": "python3"
  },
  "language_info": {
   "codemirror_mode": {
    "name": "ipython",
    "version": 3
   },
   "file_extension": ".py",
   "mimetype": "text/x-python",
   "name": "python",
   "nbconvert_exporter": "python",
   "pygments_lexer": "ipython3",
   "version": "3.9.12"
  },
  "orig_nbformat": 4
 },
 "nbformat": 4,
 "nbformat_minor": 2
}
