{
 "cells": [
  {
   "cell_type": "markdown",
   "metadata": {},
   "source": [
    "# Estimator Benchmarks\n",
    "\n",
    "Notebook for benchmarking known IV estimators against different data generating processes.\n",
    "\n",
    "Current roster:\n",
    "- Split-sample IV **TODO**\n",
    "- 2SLS\n",
    "- Jackknife IV **TODO**\n",
    "- LIML \n",
    "- Mostly harmless ML\n",
    "- DeepIV **TODO**\n",
    "- DoubleML **TODO**\n",
    "- ML'd IV **TODO** Singh et al. 2023"
   ]
  },
  {
   "cell_type": "markdown",
   "metadata": {},
   "source": [
    "# Imports"
   ]
  },
  {
   "cell_type": "code",
   "execution_count": 1,
   "metadata": {},
   "outputs": [],
   "source": [
    "from glob import glob\n",
    "import pandas as pd\n",
    "import os\n",
    "import numpy as np\n",
    "import matplotlib.pyplot as plt\n",
    "import seaborn as sns\n",
    "import torch\n",
    "\n",
    "from tqdm import tqdm"
   ]
  },
  {
   "cell_type": "code",
   "execution_count": 2,
   "metadata": {},
   "outputs": [],
   "source": [
    "from src.model import PoolingMLP\n",
    "from src.data.lennon_iv_generator import LennonIVGenerator, generate_cov_matrix\n",
    "from src.viz.plotting import kde_ridgeplot"
   ]
  },
  {
   "cell_type": "markdown",
   "metadata": {},
   "source": [
    "# Load benchmarking results"
   ]
  },
  {
   "cell_type": "code",
   "execution_count": 3,
   "metadata": {},
   "outputs": [],
   "source": [
    "result_dir = \"../results/benchmark_lennon100/\"\n",
    "\n",
    "models = [\n",
    "    \"TSLS\",\n",
    "    \"LIML\",\n",
    "    \"OLS\",\n",
    "    \"MHML\"\n",
    "]\n",
    "\n",
    "benchmark_results = {\n",
    "    model: pd.read_parquet(os.path.join(result_dir, f\"{model}_results.parquet\")) for model in models\n",
    "}"
   ]
  },
  {
   "cell_type": "code",
   "execution_count": 15,
   "metadata": {},
   "outputs": [
    {
     "name": "stderr",
     "output_type": "stream",
     "text": [
      "/home/tliu/learning-ivs/src/model/pooling_mlp.py:109: UserWarning: nn.init.xavier_normal is now deprecated in favor of nn.init.xavier_normal_.\n",
      "  torch.nn.init.xavier_normal(m.weight)\n"
     ]
    }
   ],
   "source": [
    "MODEL_CHKPT = \"/home/tliu/learning-ivs/workdir/pool_mlp_lennon_bs256_lr0.004_eps100_hidden256_depth4/ckpts/exp_name=pool_mlp_lennon_bs256_lr0.004_eps100_hidden256_depth4-val_loss=0.0070.ckpt\"\n",
    "data_dir = \"/home/tliu/learning-ivs/datasets/linear/lennon100_fixed_tau/test\"\n",
    "\n",
    "model = PoolingMLP.load_from_checkpoint(MODEL_CHKPT)\n",
    "model.eval();"
   ]
  },
  {
   "cell_type": "code",
   "execution_count": 16,
   "metadata": {},
   "outputs": [
    {
     "name": "stderr",
     "output_type": "stream",
     "text": [
      "100%|██████████| 1000/1000 [00:15<00:00, 65.13it/s]\n"
     ]
    }
   ],
   "source": [
    "pooled_mlp_preds = []\n",
    "\n",
    "for file_name in tqdm(glob(f\"{data_dir}/*.parquet\")):\n",
    "    df = pd.read_parquet(file_name)\n",
    "    # pooled MLP\n",
    "    data = torch.tensor(df.to_numpy(), dtype=torch.float32)\n",
    "    #print(data.shape)\n",
    "    # create a batch dimension\n",
    "    data = data.unsqueeze(0)\n",
    "    pooled_mlp_preds.append(model(data).squeeze().item())"
   ]
  },
  {
   "cell_type": "code",
   "execution_count": 18,
   "metadata": {},
   "outputs": [
    {
     "data": {
      "text/html": [
       "<div>\n",
       "<style scoped>\n",
       "    .dataframe tbody tr th:only-of-type {\n",
       "        vertical-align: middle;\n",
       "    }\n",
       "\n",
       "    .dataframe tbody tr th {\n",
       "        vertical-align: top;\n",
       "    }\n",
       "\n",
       "    .dataframe thead th {\n",
       "        text-align: right;\n",
       "    }\n",
       "</style>\n",
       "<table border=\"1\" class=\"dataframe\">\n",
       "  <thead>\n",
       "    <tr style=\"text-align: right;\">\n",
       "      <th></th>\n",
       "      <th>tau</th>\n",
       "      <th>se</th>\n",
       "      <th>ground_truth</th>\n",
       "      <th>idx</th>\n",
       "      <th>model</th>\n",
       "    </tr>\n",
       "  </thead>\n",
       "  <tbody>\n",
       "    <tr>\n",
       "      <th>0</th>\n",
       "      <td>1.398952</td>\n",
       "      <td>0.084520</td>\n",
       "      <td>1.0</td>\n",
       "      <td>0</td>\n",
       "      <td>TSLS</td>\n",
       "    </tr>\n",
       "    <tr>\n",
       "      <th>1</th>\n",
       "      <td>1.486148</td>\n",
       "      <td>0.080369</td>\n",
       "      <td>1.0</td>\n",
       "      <td>1</td>\n",
       "      <td>TSLS</td>\n",
       "    </tr>\n",
       "    <tr>\n",
       "      <th>2</th>\n",
       "      <td>1.463310</td>\n",
       "      <td>0.076734</td>\n",
       "      <td>1.0</td>\n",
       "      <td>2</td>\n",
       "      <td>TSLS</td>\n",
       "    </tr>\n",
       "    <tr>\n",
       "      <th>3</th>\n",
       "      <td>1.403686</td>\n",
       "      <td>0.080071</td>\n",
       "      <td>1.0</td>\n",
       "      <td>3</td>\n",
       "      <td>TSLS</td>\n",
       "    </tr>\n",
       "    <tr>\n",
       "      <th>4</th>\n",
       "      <td>1.408438</td>\n",
       "      <td>0.068298</td>\n",
       "      <td>1.0</td>\n",
       "      <td>4</td>\n",
       "      <td>TSLS</td>\n",
       "    </tr>\n",
       "  </tbody>\n",
       "</table>\n",
       "</div>"
      ],
      "text/plain": [
       "        tau        se  ground_truth  idx model\n",
       "0  1.398952  0.084520           1.0    0  TSLS\n",
       "1  1.486148  0.080369           1.0    1  TSLS\n",
       "2  1.463310  0.076734           1.0    2  TSLS\n",
       "3  1.403686  0.080071           1.0    3  TSLS\n",
       "4  1.408438  0.068298           1.0    4  TSLS"
      ]
     },
     "execution_count": 18,
     "metadata": {},
     "output_type": "execute_result"
    }
   ],
   "source": [
    "benchmark_results[\"TSLS\"].head()"
   ]
  },
  {
   "cell_type": "code",
   "execution_count": 19,
   "metadata": {},
   "outputs": [],
   "source": [
    "result_df = pd.DataFrame()\n",
    "for k, df in benchmark_results.items():\n",
    "    df[\"model\"] = k\n",
    "    result_df = pd.concat([result_df, df[['tau', 'model']]])\n"
   ]
  },
  {
   "cell_type": "code",
   "execution_count": 20,
   "metadata": {},
   "outputs": [],
   "source": [
    "pooled_df = pd.DataFrame(pooled_mlp_preds, columns=[\"tau\"])\n",
    "pooled_df[\"model\"] = \"Pooled MLP\"\n",
    "result_df = pd.concat([result_df, pooled_df])"
   ]
  },
  {
   "cell_type": "code",
   "execution_count": 21,
   "metadata": {},
   "outputs": [
    {
     "data": {
      "text/html": [
       "<div>\n",
       "<style scoped>\n",
       "    .dataframe tbody tr th:only-of-type {\n",
       "        vertical-align: middle;\n",
       "    }\n",
       "\n",
       "    .dataframe tbody tr th {\n",
       "        vertical-align: top;\n",
       "    }\n",
       "\n",
       "    .dataframe thead th {\n",
       "        text-align: right;\n",
       "    }\n",
       "</style>\n",
       "<table border=\"1\" class=\"dataframe\">\n",
       "  <thead>\n",
       "    <tr style=\"text-align: right;\">\n",
       "      <th></th>\n",
       "      <th>tau</th>\n",
       "      <th>model</th>\n",
       "    </tr>\n",
       "  </thead>\n",
       "  <tbody>\n",
       "    <tr>\n",
       "      <th>0</th>\n",
       "      <td>1.202968</td>\n",
       "      <td>Pooled MLP</td>\n",
       "    </tr>\n",
       "    <tr>\n",
       "      <th>1</th>\n",
       "      <td>1.330552</td>\n",
       "      <td>Pooled MLP</td>\n",
       "    </tr>\n",
       "    <tr>\n",
       "      <th>2</th>\n",
       "      <td>1.240972</td>\n",
       "      <td>Pooled MLP</td>\n",
       "    </tr>\n",
       "    <tr>\n",
       "      <th>3</th>\n",
       "      <td>1.127863</td>\n",
       "      <td>Pooled MLP</td>\n",
       "    </tr>\n",
       "    <tr>\n",
       "      <th>4</th>\n",
       "      <td>1.141272</td>\n",
       "      <td>Pooled MLP</td>\n",
       "    </tr>\n",
       "    <tr>\n",
       "      <th>...</th>\n",
       "      <td>...</td>\n",
       "      <td>...</td>\n",
       "    </tr>\n",
       "    <tr>\n",
       "      <th>995</th>\n",
       "      <td>1.253130</td>\n",
       "      <td>Pooled MLP</td>\n",
       "    </tr>\n",
       "    <tr>\n",
       "      <th>996</th>\n",
       "      <td>1.226035</td>\n",
       "      <td>Pooled MLP</td>\n",
       "    </tr>\n",
       "    <tr>\n",
       "      <th>997</th>\n",
       "      <td>1.292876</td>\n",
       "      <td>Pooled MLP</td>\n",
       "    </tr>\n",
       "    <tr>\n",
       "      <th>998</th>\n",
       "      <td>1.165001</td>\n",
       "      <td>Pooled MLP</td>\n",
       "    </tr>\n",
       "    <tr>\n",
       "      <th>999</th>\n",
       "      <td>1.132257</td>\n",
       "      <td>Pooled MLP</td>\n",
       "    </tr>\n",
       "  </tbody>\n",
       "</table>\n",
       "<p>1000 rows × 2 columns</p>\n",
       "</div>"
      ],
      "text/plain": [
       "          tau       model\n",
       "0    1.202968  Pooled MLP\n",
       "1    1.330552  Pooled MLP\n",
       "2    1.240972  Pooled MLP\n",
       "3    1.127863  Pooled MLP\n",
       "4    1.141272  Pooled MLP\n",
       "..        ...         ...\n",
       "995  1.253130  Pooled MLP\n",
       "996  1.226035  Pooled MLP\n",
       "997  1.292876  Pooled MLP\n",
       "998  1.165001  Pooled MLP\n",
       "999  1.132257  Pooled MLP\n",
       "\n",
       "[1000 rows x 2 columns]"
      ]
     },
     "execution_count": 21,
     "metadata": {},
     "output_type": "execute_result"
    }
   ],
   "source": [
    "pooled_df"
   ]
  },
  {
   "cell_type": "code",
   "execution_count": 22,
   "metadata": {},
   "outputs": [
    {
     "data": {
      "text/plain": [
       "(5000, 2)"
      ]
     },
     "execution_count": 22,
     "metadata": {},
     "output_type": "execute_result"
    }
   ],
   "source": [
    "result_df."
   ]
  },
  {
   "cell_type": "code",
   "execution_count": 23,
   "metadata": {},
   "outputs": [
    {
     "data": {
      "text/plain": [
       "array(['TSLS', 'LIML', 'OLS', 'MHML', 'Pooled MLP'], dtype=object)"
      ]
     },
     "execution_count": 23,
     "metadata": {},
     "output_type": "execute_result"
    }
   ],
   "source": [
    "result_df['model'].unique()"
   ]
  },
  {
   "cell_type": "code",
   "execution_count": 24,
   "metadata": {},
   "outputs": [
    {
     "data": {
      "image/png": "[encoded data removed]",
      "text/plain": [
       "<Figure size 600x600 with 5 Axes>"
      ]
     },
     "metadata": {},
     "output_type": "display_data"
    }
   ],
   "source": [
    "pal = sns.cubehelix_palette(10, rot=-.25, light=.7)\n",
    "kde_ridgeplot(result_df, 'model', 'tau', pal, figsize=(6, 6))"
   ]
  },
  {
   "cell_type": "markdown",
   "metadata": {},
   "source": [
    "## Sandbox for bias-var tradeoff"
   ]
  },
  {
   "cell_type": "code",
   "execution_count": 28,
   "metadata": {},
   "outputs": [],
   "source": [
    "def mse_decomp(preds, ground_truth=1):\n",
    "    \"\"\"\n",
    "    Quick function for computing MSE, bias^2, and variance.\n",
    "\n",
    "    Args:\n",
    "        preds: np.array of predictions\n",
    "        ground_truth: if not a scalar, needs to be same shape as preds\n",
    "    \"\"\"\n",
    "    assert np.isscalar(ground_truth) or preds.shape == ground_truth.shape\n",
    "\n",
    "    mse = np.mean((preds - ground_truth)**2)\n",
    "    bias = np.mean(preds) - ground_truth\n",
    "    var = np.var(preds)\n",
    "\n",
    "    return mse, bias, var\n"
   ]
  },
  {
   "cell_type": "code",
   "execution_count": 31,
   "metadata": {},
   "outputs": [
    {
     "name": "stdout",
     "output_type": "stream",
     "text": [
      "0.8447172108665499\n",
      "0.9184764352153716\n",
      "0.0011182488206130019\n",
      "0.8447172108665496\n"
     ]
    }
   ],
   "source": [
    "sel = result_df[result_df['model'] == 'OLS']\n",
    "mse, bias, var = mse_decomp(sel['tau'])\n",
    "print(mse)\n",
    "print(bias)\n",
    "print(var)\n",
    "print(bias**2 + var)"
   ]
  },
  {
   "cell_type": "markdown",
   "metadata": {},
   "source": [
    "## Roadmap for leaderboarding"
   ]
  },
  {
   "cell_type": "markdown",
   "metadata": {},
   "source": [
    "1. modify benchmark.py to compute mses/metrics for a specfic task\n",
    "2. clean up the configs so that the correct experiment names are shown\n",
    "3. Write to a results json that has the following format: \n",
    "\n",
    "```json\n",
    "{\n",
    "    \"results\": {\n",
    "        \"task_name1\": {\n",
    "            \"metric_name\": 0\n",
    "        }\n",
    "    }\n",
    "}\n",
    "```\n",
    "\n",
    "Also look at the formatting of the demo-leaderboard-backend/results dataset: https://huggingface.co/datasets/demo-leaderboard-backend/results?row=1"
   ]
  },
  {
   "cell_type": "markdown",
   "metadata": {},
   "source": [
    "# Lennon et al. 2022 Replication"
   ]
  },
  {
   "cell_type": "code",
   "execution_count": 21,
   "metadata": {},
   "outputs": [],
   "source": [
    "n_samples = 1000\n",
    "mu2 = 180\n",
    "n_instruments = 100\n",
    "iv_gen = LennonIVGenerator(\n",
    "            tau_range=[1,1],\n",
    "            max_vars=n_instruments,\n",
    "            n_instruments=n_instruments,\n",
    "            #instrument_covariance=torch.Tensor(generate_cov_matrix(n_instruments)), \n",
    "            instrument_cov_base=0.5,\n",
    "            instrument_strength=mu2/n_samples,\n",
    "        )\n",
    "\n",
    "data = iv_gen.batch(tau=1, batch_size=n_samples).detach().numpy()"
   ]
  },
  {
   "cell_type": "code",
   "execution_count": 22,
   "metadata": {},
   "outputs": [
    {
     "data": {
      "text/plain": [
       "(1000, 102)"
      ]
     },
     "execution_count": 22,
     "metadata": {},
     "output_type": "execute_result"
    }
   ],
   "source": [
    "data.shape"
   ]
  },
  {
   "cell_type": "code",
   "execution_count": 23,
   "metadata": {},
   "outputs": [
    {
     "data": {
      "text/plain": [
       "(1000, 100)"
      ]
     },
     "execution_count": 23,
     "metadata": {},
     "output_type": "execute_result"
    }
   ],
   "source": [
    "data[:, :-2].shape"
   ]
  },
  {
   "cell_type": "code",
   "execution_count": 24,
   "metadata": {},
   "outputs": [
    {
     "data": {
      "text/plain": [
       "<Axes: >"
      ]
     },
     "execution_count": 24,
     "metadata": {},
     "output_type": "execute_result"
    },
    {
     "data": {
      "image/png": "[encoded data removed]",
      "text/plain": [
       "<Figure size 640x480 with 2 Axes>"
      ]
     },
     "metadata": {},
     "output_type": "display_data"
    }
   ],
   "source": [
    "sns.heatmap(np.corrcoef(data[:, 2:].T))"
   ]
  },
  {
   "cell_type": "code",
   "execution_count": 25,
   "metadata": {},
   "outputs": [
    {
     "ename": "NameError",
     "evalue": "name 'result_df_long' is not defined",
     "output_type": "error",
     "traceback": [
      "\u001b[0;31m---------------------------------------------------------------------------\u001b[0m",
      "\u001b[0;31mNameError\u001b[0m                                 Traceback (most recent call last)",
      "Cell \u001b[0;32mIn[25], line 4\u001b[0m\n\u001b[1;32m      1\u001b[0m \u001b[38;5;66;03m# Initialize the FacetGrid object\u001b[39;00m\n\u001b[1;32m      2\u001b[0m \u001b[38;5;66;03m#plt.axvline(x=1, ls='--', color='black')\u001b[39;00m\n\u001b[1;32m      3\u001b[0m pal \u001b[38;5;241m=\u001b[39m sns\u001b[38;5;241m.\u001b[39mcubehelix_palette(\u001b[38;5;241m10\u001b[39m, rot\u001b[38;5;241m=\u001b[39m\u001b[38;5;241m-\u001b[39m\u001b[38;5;241m.25\u001b[39m, light\u001b[38;5;241m=\u001b[39m\u001b[38;5;241m.7\u001b[39m)\n\u001b[0;32m----> 4\u001b[0m kde_ridgeplot(\u001b[43mresult_df_long\u001b[49m, \u001b[38;5;124m'\u001b[39m\u001b[38;5;124mmethod\u001b[39m\u001b[38;5;124m'\u001b[39m, \u001b[38;5;124m'\u001b[39m\u001b[38;5;124mestimate\u001b[39m\u001b[38;5;124m'\u001b[39m, pal, figsize\u001b[38;5;241m=\u001b[39m(\u001b[38;5;241m6\u001b[39m, \u001b[38;5;241m4\u001b[39m))\n\u001b[1;32m      5\u001b[0m \u001b[38;5;66;03m#plt.xlim(0.5, 2)\u001b[39;00m\n",
      "\u001b[0;31mNameError\u001b[0m: name 'result_df_long' is not defined"
     ]
    }
   ],
   "source": [
    "# Initialize the FacetGrid object\n",
    "#plt.axvline(x=1, ls='--', color='black')\n",
    "pal = sns.cubehelix_palette(10, rot=-.25, light=.7)\n",
    "kde_ridgeplot(result_df_long, 'method', 'estimate', pal, figsize=(6, 4))\n",
    "#plt.xlim(0.5, 2)"
   ]
  },
  {
   "cell_type": "code",
   "execution_count": null,
   "metadata": {},
   "outputs": [],
   "source": [
    "import pandas as pd"
   ]
  },
  {
   "cell_type": "code",
   "execution_count": null,
   "metadata": {},
   "outputs": [],
   "source": [
    "df = pd.read_parquet(\"/home/tliu/learning-ivs/tmp_lennon100/train/uid=0-treatment_effect=-1.1086778243435313-n_samples=1000.parquet\")"
   ]
  },
  {
   "cell_type": "code",
   "execution_count": null,
   "metadata": {},
   "outputs": [
    {
     "data": {
      "text/plain": [
       "T      float32\n",
       "Y      float32\n",
       "Z0     float32\n",
       "Z1     float32\n",
       "Z2     float32\n",
       "        ...   \n",
       "Z95    float32\n",
       "Z96    float32\n",
       "Z97    float32\n",
       "Z98    float32\n",
       "Z99    float32\n",
       "Length: 102, dtype: object"
      ]
     },
     "execution_count": 5,
     "metadata": {},
     "output_type": "execute_result"
    }
   ],
   "source": [
    "df.dtypes"
   ]
  }
 ],
 "metadata": {
  "kernelspec": {
   "display_name": "livs",
   "language": "python",
   "name": "python3"
  },
  "language_info": {
   "codemirror_mode": {
    "name": "ipython",
    "version": 3
   },
   "file_extension": ".py",
   "mimetype": "text/x-python",
   "name": "python",
   "nbconvert_exporter": "python",
   "pygments_lexer": "ipython3",
   "version": "3.9.12"
  },
  "orig_nbformat": 4
 },
 "nbformat": 4,
 "nbformat_minor": 2
}
