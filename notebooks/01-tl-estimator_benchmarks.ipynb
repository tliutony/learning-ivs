{
 "cells": [
  {
   "cell_type": "markdown",
   "metadata": {},
   "source": [
    "# Estimator Benchmarks\n",
    "\n",
    "Notebook for benchmarking known IV estimators against different data generating processes.\n",
    "\n",
    "Current roster:\n",
    "- Split-sample IV **TODO**\n",
    "- 2SLS\n",
    "- Jackknife IV **TODO**\n",
    "- LIML \n",
    "- Mostly harmless ML **TODO**\n",
    "- DeepIV **TODO**\n",
    "- DoubleML **TODO**"
   ]
  },
  {
   "cell_type": "markdown",
   "metadata": {},
   "source": [
    "# Imports"
   ]
  },
  {
   "cell_type": "code",
   "execution_count": 19,
   "metadata": {},
   "outputs": [],
   "source": [
    "from glob import glob\n",
    "import pandas as pd\n",
    "import numpy as np\n",
    "import matplotlib.pyplot as plt\n",
    "import seaborn as sns\n",
    "\n",
    "from linearmodels.iv import IV2SLS"
   ]
  },
  {
   "cell_type": "code",
   "execution_count": 8,
   "metadata": {},
   "outputs": [],
   "source": [
    "# import pre-condition: run `pip install -e .` in the root directory\n",
    "from src.data.lin_norm_generator import LinearNormalDataGenerator\n",
    "from src.viz.plotting import kde_ridgeplot\n",
    "\n",
    "df = LinearNormalDataGenerator().generate()"
   ]
  },
  {
   "cell_type": "markdown",
   "metadata": {},
   "source": [
    "# TabPFN-style data generating process"
   ]
  },
  {
   "cell_type": "code",
   "execution_count": 9,
   "metadata": {},
   "outputs": [],
   "source": [
    "import torch\n",
    "from torch import nn\n",
    "from torch.distributions import MultivariateNormal\n",
    "import torch.nn.functional as F"
   ]
  },
  {
   "cell_type": "code",
   "execution_count": 10,
   "metadata": {},
   "outputs": [],
   "source": [
    "MAX_VARS = 100\n",
    "\n",
    "class GaussianNoise(nn.Module):\n",
    "    \"\"\"\n",
    "    Lifted from https://github.com/automl/TabPFN/blob/main/tabpfn/priors/mlp.py\n",
    "    TODO introduce shared covariance matrix\n",
    "    \"\"\"\n",
    "    def __init__(self, std, device):\n",
    "        super().__init__()\n",
    "        self.std = std\n",
    "        self.device=device\n",
    "\n",
    "    def forward(self, x):\n",
    "        return x + torch.normal(torch.zeros_like(x), self.std)\n",
    "\n",
    "\n",
    "def causes_sampler_f(num_causes):\n",
    "    means = np.random.normal(0, 1, (num_causes))\n",
    "    std = np.abs(np.random.normal(0, 1, (num_causes)) * means)\n",
    "    return means, std\n",
    "\n",
    "class IVGenerator(nn.Module):\n",
    "    \"\"\"\n",
    "    Neural network to generate IV datasets.\n",
    "\n",
    "    TODO add ability to generate IV controls to cover the Angrist/Frandsen case\n",
    "    \"\"\"\n",
    "    def __init__(self, \n",
    "                tau: float,\n",
    "                max_vars: int,\n",
    "                n_instruments: int,\n",
    "                instrument_covariance: torch.Tensor,\n",
    "                instrument_strength: float, # this currently translates to mu^2/n_samples\n",
    "                tau_activation: str = 'identity',\n",
    "                instrument_activation: str = 'identity',\n",
    "                # TODO add controls as well\n",
    "                control_activation: str = 'identity',\n",
    "                control_covariance: torch.Tensor = None, \n",
    "                control_str: float = 0,\n",
    "                n_controls: int = 0,\n",
    "\n",
    "                ):\n",
    "        super().__init__()\n",
    "        self.max_vars = max_vars\n",
    "        # TODO are these actually needed?\n",
    "        #self.controls = nn.Linear(max_vars, 1)\n",
    "        self.instruments = nn.Linear(max_vars, 1)\n",
    "\n",
    "        #Nself.n_controls = n_controls\n",
    "        self.n_instruments = n_instruments\n",
    "\n",
    "        if control_covariance is not None:\n",
    "            assert control_covariance.shape == (n_controls, n_controls)\n",
    "\n",
    "        assert instrument_covariance.shape == (n_instruments, n_instruments)\n",
    "        self.instrument_covariance = instrument_covariance\n",
    "        self.instrument_sampler = MultivariateNormal(torch.zeros(self.n_instruments), self.instrument_covariance)\n",
    "        \n",
    "        # currently follows the Beta pattern of Lennon et al. 2022, corresponds to their pi\n",
    "        self.instrument_coefficients = torch.pow(torch.ones(self.n_instruments) * 0.5, \n",
    "                                         torch.arange(0, self.n_instruments))\n",
    "\n",
    "        # shuffle coefficients\n",
    "        self.instrument_coefficients = self.instrument_coefficients[torch.randperm(self.n_instruments)]\n",
    "        # determine C coefficient\n",
    "        A = torch.t(self.instrument_coefficients) @ self.instrument_covariance @ self.instrument_coefficients\n",
    "        C = torch.sqrt(instrument_strength / (instrument_strength*A + A))\n",
    "        print(f\"C: {C}\")\n",
    "        self.instrument_coefficients = C * self.instrument_coefficients\n",
    "        self.sigma_v = torch.sqrt(1 - (torch.t(self.instrument_coefficients) @ self.instrument_covariance @ self.instrument_coefficients))\n",
    "        print(self.sigma_v)\n",
    "        self.sigma_y = 1\n",
    "\n",
    "\n",
    "        \n",
    "        # TODO need to ensure that confounder covariance is positive definite\n",
    "        self.confound_covariance = torch.Tensor([[self.sigma_y**2, self.sigma_y*self.sigma_v], \n",
    "                                                 [self.sigma_y*self.sigma_v, self.sigma_v**2]])\n",
    "        print(self.confound_covariance)\n",
    "        self.confound_sampler = MultivariateNormal(torch.zeros(2), self.confound_covariance)\n",
    "\n",
    "        self.tau = tau\n",
    "        self.control_str = control_str\n",
    "\n",
    "        self.activations = {\n",
    "            'identity': lambda x: x,\n",
    "            'relu': F.relu,\n",
    "            'sigmoid': F.sigmoid,\n",
    "            'tanh': F.tanh,\n",
    "            'softplus': F.softplus,\n",
    "            'leaky_relu': F.leaky_relu,\n",
    "            'elu': F.elu,\n",
    "        }\n",
    "    \n",
    "        self.tau_activation = self.activations[tau_activation]\n",
    "        self.instrument_activation = self.activations[instrument_activation]\n",
    "        #self.confounder_activation = self.activations[confounder_activation]\n",
    "\n",
    "\n",
    "    def forward(self):\n",
    "        \"\"\"Generates a single data sample\"\"\"\n",
    "        #confound_sample = torch.cat([torch.randn(self.n_confounds), torch.zeros(MAX_VARS - self.n_confounds)])\n",
    "\n",
    "        # noise sample [\\epislon_y, \\epeilson_v] according to confounder covariance\n",
    "        #noise_sample = torch.normal(TODO)\n",
    "        instrument_sample = torch.cat([self.instrument_sampler.sample(), torch.zeros(self.max_vars - self.n_instruments)])\n",
    "\n",
    "        epislon_y, epsilon_v = self.confound_sampler.sample()\n",
    "        #confounds = self.confounder_activation(self.confounders(confound_sample))\n",
    "        pi = torch.cat([self.instrument_coefficients, torch.zeros(self.max_vars - self.n_instruments)])\n",
    "        treat = self.instrument_activation(torch.t(pi) @ instrument_sample) + epsilon_v\n",
    "        \n",
    "        #print(treat.shape)\n",
    "\n",
    "        outcome = self.tau*self.tau_activation(treat) + torch.randn(1) + epislon_y\n",
    "\n",
    "        # return data matrix of T, Y, Z\n",
    "        return torch.cat([torch.Tensor([treat, outcome]), instrument_sample])\n",
    "\n",
    "        # return data matrix of T, Y, X, Z\n",
    "        #return torch.cat([treat, outcome, confound_sample, instrument_sample])\n",
    "        \n",
    "    def batch(self, batch_size: int):\n",
    "        \"\"\"Generate batch of examples\"\"\"\n",
    "        return torch.stack([self.forward() for _ in range(batch_size)])\n"
   ]
  },
  {
   "cell_type": "code",
   "execution_count": 11,
   "metadata": {},
   "outputs": [],
   "source": [
    "def generate_cov_matrix(n_vars, base=0.5):\n",
    "    \"\"\"Generates the covariance matrix for the instruments per Lennon et al. 2022\"\"\"\n",
    "    cov = np.zeros((n_vars, n_vars))\n",
    "    for i in range(n_vars):\n",
    "        for j in range(n_vars):\n",
    "            cov[i, j] = base**(np.abs(i-j))\n",
    "    return cov"
   ]
  },
  {
   "cell_type": "code",
   "execution_count": 12,
   "metadata": {},
   "outputs": [
    {
     "data": {
      "text/plain": [
       "array([[1.  , 0.5 , 0.25],\n",
       "       [0.5 , 1.  , 0.5 ],\n",
       "       [0.25, 0.5 , 1.  ]])"
      ]
     },
     "execution_count": 12,
     "metadata": {},
     "output_type": "execute_result"
    }
   ],
   "source": [
    "generate_cov_matrix(3)"
   ]
  },
  {
   "cell_type": "code",
   "execution_count": 13,
   "metadata": {},
   "outputs": [
    {
     "name": "stdout",
     "output_type": "stream",
     "text": [
      "C: 0.3443148136138916\n",
      "tensor(0.9129)\n",
      "tensor([[1.0000, 0.9129],\n",
      "        [0.9129, 0.8333]])\n"
     ]
    }
   ],
   "source": [
    "n_samples = 1000\n",
    "mu2 = 200\n",
    "n_instruments = 100\n",
    "iv_gen = IVGenerator(\n",
    "            tau=1,\n",
    "            max_vars=n_instruments,\n",
    "            n_instruments=n_instruments,\n",
    "            instrument_covariance=torch.Tensor(generate_cov_matrix(n_instruments)), \n",
    "            instrument_strength=mu2/n_samples,\n",
    "        )\n",
    "\n",
    "data = iv_gen.batch(n_samples).detach().numpy()"
   ]
  },
  {
   "cell_type": "code",
   "execution_count": 14,
   "metadata": {},
   "outputs": [
    {
     "data": {
      "text/plain": [
       "(1000, 102)"
      ]
     },
     "execution_count": 14,
     "metadata": {},
     "output_type": "execute_result"
    }
   ],
   "source": [
    "data.shape"
   ]
  },
  {
   "cell_type": "markdown",
   "metadata": {},
   "source": [
    "# Lennon et al. 2022 Replication"
   ]
  },
  {
   "cell_type": "code",
   "execution_count": 15,
   "metadata": {},
   "outputs": [
    {
     "data": {
      "text/plain": [
       "(1000, 100)"
      ]
     },
     "execution_count": 15,
     "metadata": {},
     "output_type": "execute_result"
    }
   ],
   "source": [
    "data[:, :-2].shape"
   ]
  },
  {
   "cell_type": "code",
   "execution_count": 16,
   "metadata": {},
   "outputs": [
    {
     "data": {
      "text/plain": [
       "<Axes: >"
      ]
     },
     "execution_count": 16,
     "metadata": {},
     "output_type": "execute_result"
    },
    {
     "data": {
      "image/png": "[encoded data removed]",
      "text/plain": [
       "<Figure size 640x480 with 2 Axes>"
      ]
     },
     "metadata": {},
     "output_type": "display_data"
    }
   ],
   "source": [
    "sns.heatmap(np.corrcoef(data[:, 2:].T))"
   ]
  },
  {
   "cell_type": "markdown",
   "metadata": {},
   "source": [
    "## Run simulations for Lennon et al. 2022 replication"
   ]
  },
  {
   "cell_type": "code",
   "execution_count": 17,
   "metadata": {},
   "outputs": [],
   "source": [
    "from linearmodels.iv.model import IV2SLS, _OLS, IVLIML\n",
    "from tqdm import tqdm"
   ]
  },
  {
   "cell_type": "code",
   "execution_count": 33,
   "metadata": {},
   "outputs": [
    {
     "name": "stderr",
     "output_type": "stream",
     "text": [
      "/home/tliu/learning-ivs/src/model/pooling_mlp.py:109: UserWarning: nn.init.xavier_normal is now deprecated in favor of nn.init.xavier_normal_.\n",
      "  torch.nn.init.xavier_normal(m.weight)\n"
     ]
    },
    {
     "data": {
      "text/plain": [
       "PoolingMLP(\n",
       "  (mine): MINE(\n",
       "    (fc1): Linear(in_features=3, out_features=128, bias=True)\n",
       "    (fc2): Linear(in_features=128, out_features=128, bias=True)\n",
       "    (fc3): Linear(in_features=128, out_features=1, bias=True)\n",
       "    (act): ELU(alpha=1.0)\n",
       "  )\n",
       "  (model): Sequential(\n",
       "    (0): PrePoolingBlock(\n",
       "      (fc_in): Linear(in_features=102, out_features=256, bias=True)\n",
       "      (resblock): ResLinearBlock(\n",
       "        (linear): Sequential(\n",
       "          (0): LinearBlock(\n",
       "            (linear): Linear(in_features=256, out_features=256, bias=True)\n",
       "            (activation): ELU(alpha=1.0)\n",
       "            (batch_norm): LayerNorm((256,), eps=1e-05, elementwise_affine=True)\n",
       "            (dropout): Dropout(p=0.1, inplace=False)\n",
       "          )\n",
       "          (1): LinearBlock(\n",
       "            (linear): Linear(in_features=256, out_features=256, bias=True)\n",
       "            (activation): ELU(alpha=1.0)\n",
       "            (batch_norm): LayerNorm((256,), eps=1e-05, elementwise_affine=True)\n",
       "            (dropout): Dropout(p=0.1, inplace=False)\n",
       "          )\n",
       "          (2): LinearBlock(\n",
       "            (linear): Linear(in_features=256, out_features=256, bias=True)\n",
       "            (activation): ELU(alpha=1.0)\n",
       "            (batch_norm): LayerNorm((256,), eps=1e-05, elementwise_affine=True)\n",
       "            (dropout): Dropout(p=0.1, inplace=False)\n",
       "          )\n",
       "          (3): LinearBlock(\n",
       "            (linear): Linear(in_features=256, out_features=256, bias=True)\n",
       "            (activation): ELU(alpha=1.0)\n",
       "            (batch_norm): LayerNorm((256,), eps=1e-05, elementwise_affine=True)\n",
       "            (dropout): Dropout(p=0.1, inplace=False)\n",
       "          )\n",
       "        )\n",
       "      )\n",
       "      (fc_out): Linear(in_features=256, out_features=256, bias=True)\n",
       "    )\n",
       "    (1): GlobalPoolingLayer(\n",
       "      (pooling): Reduce('b l c -> b c', 'mean')\n",
       "    )\n",
       "    (2): PostPoolingBlock(\n",
       "      (fc_in): Linear(in_features=256, out_features=256, bias=True)\n",
       "      (resblock): ResLinearBlock(\n",
       "        (linear): Sequential(\n",
       "          (0): LinearBlock(\n",
       "            (linear): Linear(in_features=256, out_features=256, bias=True)\n",
       "            (activation): ELU(alpha=1.0)\n",
       "            (batch_norm): LayerNorm((256,), eps=1e-05, elementwise_affine=True)\n",
       "            (dropout): Dropout(p=0.1, inplace=False)\n",
       "          )\n",
       "          (1): LinearBlock(\n",
       "            (linear): Linear(in_features=256, out_features=256, bias=True)\n",
       "            (activation): ELU(alpha=1.0)\n",
       "            (batch_norm): LayerNorm((256,), eps=1e-05, elementwise_affine=True)\n",
       "            (dropout): Dropout(p=0.1, inplace=False)\n",
       "          )\n",
       "          (2): LinearBlock(\n",
       "            (linear): Linear(in_features=256, out_features=256, bias=True)\n",
       "            (activation): ELU(alpha=1.0)\n",
       "            (batch_norm): LayerNorm((256,), eps=1e-05, elementwise_affine=True)\n",
       "            (dropout): Dropout(p=0.1, inplace=False)\n",
       "          )\n",
       "          (3): LinearBlock(\n",
       "            (linear): Linear(in_features=256, out_features=256, bias=True)\n",
       "            (activation): ELU(alpha=1.0)\n",
       "            (batch_norm): LayerNorm((256,), eps=1e-05, elementwise_affine=True)\n",
       "            (dropout): Dropout(p=0.1, inplace=False)\n",
       "          )\n",
       "        )\n",
       "      )\n",
       "      (fc_out): Linear(in_features=256, out_features=1, bias=True)\n",
       "    )\n",
       "  )\n",
       ")"
      ]
     },
     "execution_count": 33,
     "metadata": {},
     "output_type": "execute_result"
    }
   ],
   "source": [
    "from src.model import PoolingMLP\n",
    "MODEL_CHKPT = \"/home/tliu/learning-ivs/workdir/pool_mlp_lennon_bs256_lr0.004_eps100_hidden256_depth4/ckpts/exp_name=pool_mlp_lennon_bs256_lr0.004_eps100_hidden256_depth4-val_loss=0.0070.ckpt\"\n",
    "model = PoolingMLP.load_from_checkpoint(MODEL_CHKPT)\n",
    "model.eval()"
   ]
  },
  {
   "cell_type": "code",
   "execution_count": 34,
   "metadata": {},
   "outputs": [
    {
     "name": "stderr",
     "output_type": "stream",
     "text": [
      "100%|██████████| 1000/1000 [03:53<00:00,  4.28it/s]\n"
     ]
    }
   ],
   "source": [
    "n_trials = 500\n",
    "\n",
    "\n",
    "result_dict = {\n",
    "    'tsls': [],\n",
    "    'ols': [],\n",
    "    'liml': [],\n",
    "    'pool_mlp': [],\n",
    "}\n",
    "\n",
    "data_dir = \"/home/tliu/learning-ivs/tmp_lennon100_tau1/test\"\n",
    "preds = []\n",
    "for file_name in tqdm(glob(f\"{data_dir}/*.parquet\")):\n",
    "    df = pd.read_parquet(file_name)\n",
    "    # print(df.shape)\n",
    "    # print(df.loc[:, df.columns.str.contains('Z')].shape)\n",
    "    # print(df.T.shape)\n",
    "# for _ in tqdm(range(n_trials)):\n",
    "#     data = iv_gen.batch(n_samples).detach().numpy()\n",
    "\n",
    "#     df = pd.DataFrame(data[:, 2:], columns=[f'z{i}' for i in range(n_instruments)])\n",
    "#     df['t'] = data[:, 0]\n",
    "#     df['y'] = data[:, 1]\n",
    "    \n",
    "    # TSLS\n",
    "    iv = IV2SLS(dependent=df['Y'], \n",
    "                exog=None,\n",
    "                endog=df['T'], \n",
    "                instruments=df.loc[:, df.columns.str.contains('Z')])\n",
    "    result_dict['tsls'].append(iv.fit().params['T'])\n",
    "\n",
    "    # OLS\n",
    "    ols = _OLS(dependent=df['Y'], exog=df['T'])\n",
    "    result_dict['ols'].append(ols.fit().params['T'])\n",
    "\n",
    "    # LIML\n",
    "    liml = IVLIML(dependent=df['Y'],\n",
    "                  exog=None,\n",
    "                  endog=df['T'],\n",
    "                  instruments=df.loc[:, df.columns.str.contains('Z')])\n",
    "    result_dict['liml'].append(liml.fit().params['T'])\n",
    "\n",
    "    # Mostly Harmless ML\n",
    "\n",
    "\n",
    "    # pooled MLP\n",
    "    data = torch.tensor(df.to_numpy(), dtype=torch.float32)\n",
    "    #print(data.shape)\n",
    "    # create a batch dimension\n",
    "    data = data.unsqueeze(0)\n",
    "    result_dict['pool_mlp'].append(model(data).squeeze().item())\n",
    "\n",
    "\n",
    "result_df = pd.DataFrame(result_dict)"
   ]
  },
  {
   "cell_type": "code",
   "execution_count": 35,
   "metadata": {},
   "outputs": [
    {
     "data": {
      "text/html": [
       "<div>\n",
       "<style scoped>\n",
       "    .dataframe tbody tr th:only-of-type {\n",
       "        vertical-align: middle;\n",
       "    }\n",
       "\n",
       "    .dataframe tbody tr th {\n",
       "        vertical-align: top;\n",
       "    }\n",
       "\n",
       "    .dataframe thead th {\n",
       "        text-align: right;\n",
       "    }\n",
       "</style>\n",
       "<table border=\"1\" class=\"dataframe\">\n",
       "  <thead>\n",
       "    <tr style=\"text-align: right;\">\n",
       "      <th></th>\n",
       "      <th>tsls</th>\n",
       "      <th>ols</th>\n",
       "      <th>liml</th>\n",
       "      <th>pool_mlp</th>\n",
       "    </tr>\n",
       "  </thead>\n",
       "  <tbody>\n",
       "    <tr>\n",
       "      <th>count</th>\n",
       "      <td>1000.000000</td>\n",
       "      <td>1000.000000</td>\n",
       "      <td>1000.000000</td>\n",
       "      <td>1000.000000</td>\n",
       "    </tr>\n",
       "    <tr>\n",
       "      <th>mean</th>\n",
       "      <td>1.315358</td>\n",
       "      <td>1.613843</td>\n",
       "      <td>0.983970</td>\n",
       "      <td>1.005923</td>\n",
       "    </tr>\n",
       "    <tr>\n",
       "      <th>std</th>\n",
       "      <td>0.076712</td>\n",
       "      <td>0.031820</td>\n",
       "      <td>0.162669</td>\n",
       "      <td>0.064873</td>\n",
       "    </tr>\n",
       "    <tr>\n",
       "      <th>min</th>\n",
       "      <td>1.025134</td>\n",
       "      <td>1.514039</td>\n",
       "      <td>0.122825</td>\n",
       "      <td>0.806441</td>\n",
       "    </tr>\n",
       "    <tr>\n",
       "      <th>25%</th>\n",
       "      <td>1.265097</td>\n",
       "      <td>1.592724</td>\n",
       "      <td>0.890143</td>\n",
       "      <td>0.963467</td>\n",
       "    </tr>\n",
       "    <tr>\n",
       "      <th>50%</th>\n",
       "      <td>1.313937</td>\n",
       "      <td>1.613523</td>\n",
       "      <td>1.000373</td>\n",
       "      <td>1.007385</td>\n",
       "    </tr>\n",
       "    <tr>\n",
       "      <th>75%</th>\n",
       "      <td>1.365238</td>\n",
       "      <td>1.636548</td>\n",
       "      <td>1.094827</td>\n",
       "      <td>1.048991</td>\n",
       "    </tr>\n",
       "    <tr>\n",
       "      <th>max</th>\n",
       "      <td>1.566580</td>\n",
       "      <td>1.713686</td>\n",
       "      <td>1.408199</td>\n",
       "      <td>1.248558</td>\n",
       "    </tr>\n",
       "  </tbody>\n",
       "</table>\n",
       "</div>"
      ],
      "text/plain": [
       "              tsls          ols         liml     pool_mlp\n",
       "count  1000.000000  1000.000000  1000.000000  1000.000000\n",
       "mean      1.315358     1.613843     0.983970     1.005923\n",
       "std       0.076712     0.031820     0.162669     0.064873\n",
       "min       1.025134     1.514039     0.122825     0.806441\n",
       "25%       1.265097     1.592724     0.890143     0.963467\n",
       "50%       1.313937     1.613523     1.000373     1.007385\n",
       "75%       1.365238     1.636548     1.094827     1.048991\n",
       "max       1.566580     1.713686     1.408199     1.248558"
      ]
     },
     "execution_count": 35,
     "metadata": {},
     "output_type": "execute_result"
    }
   ],
   "source": [
    "result_df.describe()"
   ]
  },
  {
   "cell_type": "code",
   "execution_count": 36,
   "metadata": {},
   "outputs": [],
   "source": [
    "# ridge plots require dataframes in long format\n",
    "result_df_long = result_df.melt(var_name='method', value_name='estimate')\n",
    "result_df_long.head()\n",
    "result_df_long = result_df_long.sort_values('method', ascending=False)"
   ]
  },
  {
   "cell_type": "code",
   "execution_count": 41,
   "metadata": {},
   "outputs": [
    {
     "data": {
      "image/png": "[encoded data removed]",
      "text/plain": [
       "<Figure size 600x400 with 4 Axes>"
      ]
     },
     "metadata": {},
     "output_type": "display_data"
    }
   ],
   "source": [
    "# Initialize the FacetGrid object\n",
    "#plt.axvline(x=1, ls='--', color='black')\n",
    "pal = sns.cubehelix_palette(10, rot=-.25, light=.7)\n",
    "kde_ridgeplot(result_df_long, 'method', 'estimate', pal, figsize=(6, 4))\n",
    "#plt.xlim(0.5, 2)"
   ]
  },
  {
   "cell_type": "code",
   "execution_count": null,
   "metadata": {},
   "outputs": [],
   "source": [
    "import pandas as pd"
   ]
  },
  {
   "cell_type": "code",
   "execution_count": null,
   "metadata": {},
   "outputs": [],
   "source": [
    "df = pd.read_parquet(\"/home/tliu/learning-ivs/tmp_lennon100/train/uid=0-treatment_effect=-1.1086778243435313-n_samples=1000.parquet\")"
   ]
  },
  {
   "cell_type": "code",
   "execution_count": null,
   "metadata": {},
   "outputs": [
    {
     "data": {
      "text/plain": [
       "T      float32\n",
       "Y      float32\n",
       "Z0     float32\n",
       "Z1     float32\n",
       "Z2     float32\n",
       "        ...   \n",
       "Z95    float32\n",
       "Z96    float32\n",
       "Z97    float32\n",
       "Z98    float32\n",
       "Z99    float32\n",
       "Length: 102, dtype: object"
      ]
     },
     "execution_count": 5,
     "metadata": {},
     "output_type": "execute_result"
    }
   ],
   "source": [
    "df.dtypes"
   ]
  }
 ],
 "metadata": {
  "kernelspec": {
   "display_name": "livs",
   "language": "python",
   "name": "python3"
  },
  "language_info": {
   "codemirror_mode": {
    "name": "ipython",
    "version": 3
   },
   "file_extension": ".py",
   "mimetype": "text/x-python",
   "name": "python",
   "nbconvert_exporter": "python",
   "pygments_lexer": "ipython3",
   "version": "3.9.12"
  },
  "orig_nbformat": 4
 },
 "nbformat": 4,
 "nbformat_minor": 2
}
