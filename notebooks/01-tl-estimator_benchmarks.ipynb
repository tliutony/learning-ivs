{
 "cells": [
  {
   "cell_type": "markdown",
   "metadata": {},
   "source": [
    "# Estimator Benchmarks\n",
    "\n",
    "Notebook for benchmarking known IV estimators against different data generating processes.\n",
    "\n",
    "Current roster:\n",
    "- Split-sample IV **TODO**\n",
    "- 2SLS\n",
    "- Jackknife IV **TODO**\n",
    "- LIML \n",
    "- Mostly harmless ML **TODO**\n",
    "- DeepIV **TODO**\n",
    "- DoubleML **TODO**"
   ]
  },
  {
   "cell_type": "markdown",
   "metadata": {},
   "source": [
    "# Imports"
   ]
  },
  {
   "cell_type": "code",
   "execution_count": 98,
   "metadata": {},
   "outputs": [],
   "source": [
    "import pandas as pd\n",
    "import numpy as np\n",
    "import matplotlib.pyplot as plt\n",
    "import seaborn as sns\n",
    "\n",
    "from linearmodels.iv import IV2SLS"
   ]
  },
  {
   "cell_type": "code",
   "execution_count": 99,
   "metadata": {},
   "outputs": [],
   "source": [
    "# import pre-condition: run `pip install -e .` in the root directory\n",
    "from src.data.lin_norm_generator import LinearNormalDataGenerator\n",
    "from src.viz.plotting import kde_ridgeplot\n",
    "\n",
    "df = LinearNormalDataGenerator().generate()"
   ]
  },
  {
   "cell_type": "markdown",
   "metadata": {},
   "source": [
    "# TabPFN-style data generating process"
   ]
  },
  {
   "cell_type": "code",
   "execution_count": 100,
   "metadata": {},
   "outputs": [],
   "source": [
    "import torch\n",
    "from torch import nn\n",
    "from torch.distributions import MultivariateNormal\n",
    "import torch.nn.functional as F"
   ]
  },
  {
   "cell_type": "code",
   "execution_count": 101,
   "metadata": {},
   "outputs": [],
   "source": [
    "MAX_VARS = 100\n",
    "\n",
    "class GaussianNoise(nn.Module):\n",
    "    \"\"\"\n",
    "    Lifted from https://github.com/automl/TabPFN/blob/main/tabpfn/priors/mlp.py\n",
    "    TODO introduce shared covariance matrix\n",
    "    \"\"\"\n",
    "    def __init__(self, std, device):\n",
    "        super().__init__()\n",
    "        self.std = std\n",
    "        self.device=device\n",
    "\n",
    "    def forward(self, x):\n",
    "        return x + torch.normal(torch.zeros_like(x), self.std)\n",
    "\n",
    "\n",
    "def causes_sampler_f(num_causes):\n",
    "    means = np.random.normal(0, 1, (num_causes))\n",
    "    std = np.abs(np.random.normal(0, 1, (num_causes)) * means)\n",
    "    return means, std\n",
    "\n",
    "class IVGenerator(nn.Module):\n",
    "    \"\"\"\n",
    "    Neural network to generate IV datasets.\n",
    "\n",
    "    TODO add ability to generate IV controls to cover the Angrist/Frandsen case\n",
    "    \"\"\"\n",
    "    def __init__(self, \n",
    "                tau: float,\n",
    "                max_vars: int,\n",
    "                n_instruments: int,\n",
    "                instrument_covariance: torch.Tensor,\n",
    "                instrument_strength: float, # this currently translates to mu^2/n_samples\n",
    "                tau_activation: str = 'identity',\n",
    "                instrument_activation: str = 'identity',\n",
    "                # TODO add controls as well\n",
    "                control_activation: str = 'identity',\n",
    "                control_covariance: torch.Tensor = None, \n",
    "                control_str: float = 0,\n",
    "                n_controls: int = 0,\n",
    "\n",
    "                ):\n",
    "        super().__init__()\n",
    "        self.max_vars = max_vars\n",
    "        # TODO are these actually needed?\n",
    "        #self.controls = nn.Linear(max_vars, 1)\n",
    "        self.instruments = nn.Linear(max_vars, 1)\n",
    "\n",
    "        #Nself.n_controls = n_controls\n",
    "        self.n_instruments = n_instruments\n",
    "\n",
    "        if control_covariance is not None:\n",
    "            assert control_covariance.shape == (n_controls, n_controls)\n",
    "\n",
    "        assert instrument_covariance.shape == (n_instruments, n_instruments)\n",
    "        self.instrument_covariance = instrument_covariance\n",
    "        self.instrument_sampler = MultivariateNormal(torch.zeros(self.n_instruments), self.instrument_covariance)\n",
    "        \n",
    "        # currently follows the Beta pattern of Lennon et al. 2022, corresponds to their pi\n",
    "        self.instrument_coefficients = torch.pow(torch.ones(self.n_instruments) * 0.5, \n",
    "                                         torch.arange(0, self.n_instruments))\n",
    "\n",
    "        # shuffle coefficients\n",
    "        self.instrument_coefficients = self.instrument_coefficients[torch.randperm(self.n_instruments)]\n",
    "        # determine C coefficient\n",
    "        A = torch.t(self.instrument_coefficients) @ self.instrument_covariance @ self.instrument_coefficients\n",
    "        C = torch.sqrt(instrument_strength / (instrument_strength*A + A))\n",
    "        print(f\"C: {C}\")\n",
    "        self.instrument_coefficients = C * self.instrument_coefficients\n",
    "        self.sigma_v = torch.sqrt(1 - (torch.t(self.instrument_coefficients) @ self.instrument_covariance @ self.instrument_coefficients))\n",
    "        print(self.sigma_v)\n",
    "        self.sigma_y = 1\n",
    "\n",
    "\n",
    "        \n",
    "        # TODO need to ensure that confounder covariance is positive definite\n",
    "        self.confound_covariance = torch.Tensor([[self.sigma_y**2, self.sigma_y*self.sigma_v], \n",
    "                                                 [self.sigma_y*self.sigma_v, self.sigma_v**2]])\n",
    "        print(self.confound_covariance)\n",
    "        self.confound_sampler = MultivariateNormal(torch.zeros(2), self.confound_covariance)\n",
    "\n",
    "        self.tau = tau\n",
    "        self.control_str = control_str\n",
    "\n",
    "        self.activations = {\n",
    "            'identity': lambda x: x,\n",
    "            'relu': F.relu,\n",
    "            'sigmoid': F.sigmoid,\n",
    "            'tanh': F.tanh,\n",
    "            'softplus': F.softplus,\n",
    "            'leaky_relu': F.leaky_relu,\n",
    "            'elu': F.elu,\n",
    "        }\n",
    "    \n",
    "        self.tau_activation = self.activations[tau_activation]\n",
    "        self.instrument_activation = self.activations[instrument_activation]\n",
    "        #self.confounder_activation = self.activations[confounder_activation]\n",
    "\n",
    "\n",
    "    def forward(self):\n",
    "        \"\"\"Generates a single data sample\"\"\"\n",
    "        #confound_sample = torch.cat([torch.randn(self.n_confounds), torch.zeros(MAX_VARS - self.n_confounds)])\n",
    "\n",
    "        # noise sample [\\epislon_y, \\epeilson_v] according to confounder covariance\n",
    "        #noise_sample = torch.normal(TODO)\n",
    "        instrument_sample = torch.cat([self.instrument_sampler.sample(), torch.zeros(self.max_vars - self.n_instruments)])\n",
    "\n",
    "        epislon_y, epsilon_v = self.confound_sampler.sample()\n",
    "        #confounds = self.confounder_activation(self.confounders(confound_sample))\n",
    "        pi = torch.cat([self.instrument_coefficients, torch.zeros(self.max_vars - self.n_instruments)])\n",
    "        treat = self.instrument_activation(torch.t(pi) @ instrument_sample) + epsilon_v\n",
    "        \n",
    "        #print(treat.shape)\n",
    "\n",
    "        outcome = self.tau*self.tau_activation(treat) + torch.randn(1) + epislon_y\n",
    "\n",
    "        # return data matrix of T, Y, Z\n",
    "        return torch.cat([torch.Tensor([treat, outcome]), instrument_sample])\n",
    "\n",
    "        # return data matrix of T, Y, X, Z\n",
    "        #return torch.cat([treat, outcome, confound_sample, instrument_sample])\n",
    "        \n",
    "    def batch(self, batch_size: int):\n",
    "        \"\"\"Generate batch of examples\"\"\"\n",
    "        return torch.stack([self.forward() for _ in range(batch_size)])\n"
   ]
  },
  {
   "cell_type": "code",
   "execution_count": 102,
   "metadata": {},
   "outputs": [],
   "source": [
    "def generate_cov_matrix(n_vars, base=0.5):\n",
    "    \"\"\"Generates the covariance matrix for the instruments per Lennon et al. 2022\"\"\"\n",
    "    cov = np.zeros((n_vars, n_vars))\n",
    "    for i in range(n_vars):\n",
    "        for j in range(n_vars):\n",
    "            cov[i, j] = base**(np.abs(i-j))\n",
    "    return cov"
   ]
  },
  {
   "cell_type": "code",
   "execution_count": 103,
   "metadata": {},
   "outputs": [
    {
     "data": {
      "text/plain": [
       "array([[1.  , 0.5 , 0.25],\n",
       "       [0.5 , 1.  , 0.5 ],\n",
       "       [0.25, 0.5 , 1.  ]])"
      ]
     },
     "execution_count": 103,
     "metadata": {},
     "output_type": "execute_result"
    }
   ],
   "source": [
    "generate_cov_matrix(3)"
   ]
  },
  {
   "cell_type": "code",
   "execution_count": 106,
   "metadata": {},
   "outputs": [
    {
     "name": "stdout",
     "output_type": "stream",
     "text": [
      "C: 0.3518088459968567\n",
      "tensor(0.9129)\n",
      "tensor([[1.0000, 0.9129],\n",
      "        [0.9129, 0.8333]])\n"
     ]
    }
   ],
   "source": [
    "n_samples = 1000\n",
    "mu2 = 200\n",
    "n_instruments = 100\n",
    "iv_gen = IVGenerator(\n",
    "            tau=1,\n",
    "            max_vars=n_instruments,\n",
    "            n_instruments=n_instruments,\n",
    "            instrument_covariance=torch.Tensor(generate_cov_matrix(n_instruments)), \n",
    "            instrument_strength=mu2/n_samples,\n",
    "        )\n",
    "\n",
    "data = iv_gen.batch(n_samples).detach().numpy()"
   ]
  },
  {
   "cell_type": "code",
   "execution_count": 107,
   "metadata": {},
   "outputs": [
    {
     "data": {
      "text/plain": [
       "(1000, 102)"
      ]
     },
     "execution_count": 107,
     "metadata": {},
     "output_type": "execute_result"
    }
   ],
   "source": [
    "data.shape"
   ]
  },
  {
   "cell_type": "markdown",
   "metadata": {},
   "source": [
    "# Lennon et al. 2022 Replication"
   ]
  },
  {
   "cell_type": "code",
   "execution_count": 108,
   "metadata": {},
   "outputs": [
    {
     "data": {
      "text/plain": [
       "(1000, 100)"
      ]
     },
     "execution_count": 108,
     "metadata": {},
     "output_type": "execute_result"
    }
   ],
   "source": [
    "data[:, :-2].shape"
   ]
  },
  {
   "cell_type": "code",
   "execution_count": 109,
   "metadata": {},
   "outputs": [
    {
     "data": {
      "text/plain": [
       "<Axes: >"
      ]
     },
     "execution_count": 109,
     "metadata": {},
     "output_type": "execute_result"
    },
    {
     "data": {
      "image/png": "[encoded data removed]",
      "text/plain": [
       "<Figure size 640x480 with 2 Axes>"
      ]
     },
     "metadata": {},
     "output_type": "display_data"
    }
   ],
   "source": [
    "sns.heatmap(np.corrcoef(data[:, 2:].T))"
   ]
  },
  {
   "cell_type": "markdown",
   "metadata": {},
   "source": [
    "## Run simulations for Lennon et al. 2022 replication"
   ]
  },
  {
   "cell_type": "code",
   "execution_count": 110,
   "metadata": {},
   "outputs": [],
   "source": [
    "from linearmodels.iv.model import IV2SLS, _OLS, IVLIML\n",
    "from tqdm import tqdm"
   ]
  },
  {
   "cell_type": "code",
   "execution_count": 111,
   "metadata": {},
   "outputs": [
    {
     "name": "stderr",
     "output_type": "stream",
     "text": [
      "100%|██████████| 500/500 [03:08<00:00,  2.65it/s]\n"
     ]
    }
   ],
   "source": [
    "n_trials = 500\n",
    "\n",
    "\n",
    "result_dict = {\n",
    "    'tsls': [],\n",
    "    'ols': [],\n",
    "    'liml': [],\n",
    "}\n",
    "\n",
    "for _ in tqdm(range(n_trials)):\n",
    "    data = iv_gen.batch(n_samples).detach().numpy()\n",
    "\n",
    "    df = pd.DataFrame(data[:, 2:], columns=[f'z{i}' for i in range(n_instruments)])\n",
    "    df['t'] = data[:, 0]\n",
    "    df['y'] = data[:, 1]\n",
    "    \n",
    "    # TSLS\n",
    "    iv = IV2SLS(dependent=df.y, \n",
    "                exog=None,\n",
    "                endog=df.t, \n",
    "                instruments=df.iloc[:, :-2])\n",
    "    result_dict['tsls'].append(iv.fit().params['t'])\n",
    "\n",
    "    # OLS\n",
    "    ols = _OLS(dependent=df.y, exog=df.t)\n",
    "    result_dict['ols'].append(ols.fit().params['t'])\n",
    "\n",
    "    # LIML\n",
    "    liml = IVLIML(dependent=df.y,\n",
    "                  exog=None,\n",
    "                  endog=df.t, \n",
    "                  instruments=df.iloc[:, :-2])\n",
    "    result_dict['liml'].append(liml.fit().params['t'])\n",
    "\n",
    "    # Mostly Harmless ML\n",
    "\n",
    "\n",
    "\n",
    "result_df = pd.DataFrame(result_dict)"
   ]
  },
  {
   "cell_type": "code",
   "execution_count": 112,
   "metadata": {},
   "outputs": [
    {
     "data": {
      "text/html": [
       "<div>\n",
       "<style scoped>\n",
       "    .dataframe tbody tr th:only-of-type {\n",
       "        vertical-align: middle;\n",
       "    }\n",
       "\n",
       "    .dataframe tbody tr th {\n",
       "        vertical-align: top;\n",
       "    }\n",
       "\n",
       "    .dataframe thead th {\n",
       "        text-align: right;\n",
       "    }\n",
       "</style>\n",
       "<table border=\"1\" class=\"dataframe\">\n",
       "  <thead>\n",
       "    <tr style=\"text-align: right;\">\n",
       "      <th></th>\n",
       "      <th>tsls</th>\n",
       "      <th>ols</th>\n",
       "      <th>liml</th>\n",
       "    </tr>\n",
       "  </thead>\n",
       "  <tbody>\n",
       "    <tr>\n",
       "      <th>count</th>\n",
       "      <td>500.000000</td>\n",
       "      <td>500.000000</td>\n",
       "      <td>500.000000</td>\n",
       "    </tr>\n",
       "    <tr>\n",
       "      <th>mean</th>\n",
       "      <td>1.364235</td>\n",
       "      <td>1.911165</td>\n",
       "      <td>1.001506</td>\n",
       "    </tr>\n",
       "    <tr>\n",
       "      <th>std</th>\n",
       "      <td>0.072647</td>\n",
       "      <td>0.033948</td>\n",
       "      <td>0.131314</td>\n",
       "    </tr>\n",
       "    <tr>\n",
       "      <th>min</th>\n",
       "      <td>1.150904</td>\n",
       "      <td>1.798552</td>\n",
       "      <td>0.463763</td>\n",
       "    </tr>\n",
       "    <tr>\n",
       "      <th>25%</th>\n",
       "      <td>1.316831</td>\n",
       "      <td>1.889936</td>\n",
       "      <td>0.925910</td>\n",
       "    </tr>\n",
       "    <tr>\n",
       "      <th>50%</th>\n",
       "      <td>1.364690</td>\n",
       "      <td>1.909657</td>\n",
       "      <td>1.018694</td>\n",
       "    </tr>\n",
       "    <tr>\n",
       "      <th>75%</th>\n",
       "      <td>1.415725</td>\n",
       "      <td>1.933546</td>\n",
       "      <td>1.090098</td>\n",
       "    </tr>\n",
       "    <tr>\n",
       "      <th>max</th>\n",
       "      <td>1.581353</td>\n",
       "      <td>2.018192</td>\n",
       "      <td>1.308916</td>\n",
       "    </tr>\n",
       "  </tbody>\n",
       "</table>\n",
       "</div>"
      ],
      "text/plain": [
       "             tsls         ols        liml\n",
       "count  500.000000  500.000000  500.000000\n",
       "mean     1.364235    1.911165    1.001506\n",
       "std      0.072647    0.033948    0.131314\n",
       "min      1.150904    1.798552    0.463763\n",
       "25%      1.316831    1.889936    0.925910\n",
       "50%      1.364690    1.909657    1.018694\n",
       "75%      1.415725    1.933546    1.090098\n",
       "max      1.581353    2.018192    1.308916"
      ]
     },
     "execution_count": 112,
     "metadata": {},
     "output_type": "execute_result"
    }
   ],
   "source": [
    "result_df.describe()"
   ]
  },
  {
   "cell_type": "code",
   "execution_count": 114,
   "metadata": {},
   "outputs": [],
   "source": [
    "# ridge plots require dataframes in long format\n",
    "result_df_long = result_df.melt(var_name='method', value_name='estimate')\n",
    "result_df_long.head()\n",
    "result_df_long = result_df_long.sort_values('method', ascending=False)"
   ]
  },
  {
   "cell_type": "code",
   "execution_count": 182,
   "metadata": {},
   "outputs": [
    {
     "data": {
      "image/png": "[encoded data removed]",
      "text/plain": [
       "<Figure size 1000x400 with 3 Axes>"
      ]
     },
     "metadata": {},
     "output_type": "display_data"
    }
   ],
   "source": [
    "# Initialize the FacetGrid object\n",
    "pal = sns.cubehelix_palette(10, rot=-.25, light=.7)\n",
    "kde_ridgeplot(result_df_long, 'method', 'estimate', pal, figsize=(10, 4))\n",
    "#plt.axvline(x=1, ls='--', color='black')\n",
    "#plt.xlim(0, 2)"
   ]
  }
 ],
 "metadata": {
  "kernelspec": {
   "display_name": "livs",
   "language": "python",
   "name": "python3"
  },
  "language_info": {
   "codemirror_mode": {
    "name": "ipython",
    "version": 3
   },
   "file_extension": ".py",
   "mimetype": "text/x-python",
   "name": "python",
   "nbconvert_exporter": "python",
   "pygments_lexer": "ipython3",
   "version": "3.9.12"
  },
  "orig_nbformat": 4
 },
 "nbformat": 4,
 "nbformat_minor": 2
}
